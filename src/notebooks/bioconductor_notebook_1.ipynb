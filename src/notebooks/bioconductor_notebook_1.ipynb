{
 "cells": [
  {
   "cell_type": "markdown",
   "metadata": {},
   "source": [
    "# Brown Univ. Introduction to Bioconductor 2018, Period 1\n",
    "\n",
    "## A comment on how to use the notebook\n",
    "\n",
    "It is probably best to \"clear\" all cells at first.  We will go through text, look\n",
    "at the code blocks, think about what they mean, and then execute them.  Use the \"Cell\"\n",
    "tab and select \"All Output\", then click on the \"Clear\" option that will appear.\n",
    "\n",
    "## Road map\n",
    "\n",
    "- Overview of Bioconductor project and statement of some core values\n",
    "- Installation and documentation briefly reviewed\n",
    "- Coordinating information from multiple files in ExpressionSets\n",
    "- Using GEOquery to obtain annotated expression data from NCBI GEO\n",
    "\n",
    "Specifically we will work with data from a [Cancer Cell](https://www.ncbi.nlm.nih.gov/pmc/articles/PMC5479636/) paper that\n",
    "\"show[s] that LXR-623, a clinically viable, highly brain-penetrant LXRα-partial/LXRβ-full agonist selectively kills GBM cells in an LXRβ- and cholesterol-dependent fashion, causing tumor regression and prolonged survival in mouse models.\"\n",
    "\n",
    "## Motivations and core values"
   ]
  },
  {
   "cell_type": "code",
   "execution_count": 1,
   "metadata": {},
   "outputs": [],
   "source": [
    "# a quick setup to avoid extraneous messages\n",
    "suppressPackageStartupMessages({\n",
    "    library(Homo.sapiens)\n",
    "    library(GEOquery)\n",
    "    library(GSE5859Subset)\n",
    "    library(Biobase)\n",
    "    library(pasilla) # or make sure it is installed\n",
    "})"
   ]
  },
  {
   "cell_type": "markdown",
   "metadata": {},
   "source": [
    "### Why R?\n",
    "\n",
    "Bioconductor is based on R. Three key reasons for this are:\n",
    "\n",
    "- R is used by many statisticians and biostatisticians to create algorithms that advance our ability to understand complex experimental data.\n",
    "\n",
    "- R is highly interoperable, and fosters reuse of software components written in other languages.\n",
    "\n",
    "- R is portable to the key operating systems running on commodity computing equipment (Linux, MacOSX, Windows) and can be used immediately by beginners with access to any of these platforms.\n",
    "\n",
    "Other languages are starting to share these features.  However the large software ecosystems of R and Bioconductor will continue to play a role even as new languages and environments for genome-scale analysis start to take shape.\n",
    "\n",
    "### What is R?\n",
    "\n",
    "We'll see more clearly what R is as we work with it.  Two features that merit attention are its approach to *functional* and *object-oriented* programming.\n",
    "\n",
    "Before we get into these programming concepts, let's get clear on the approach we are taking to working with R.\n",
    "\n",
    "- We are using R *interactively* in the Jupyter notebook system for scientific computing\n",
    "- Our interaction with R is defined in notebook \"cells\"\n",
    "- We can put some code in a cell and ask the notebook server to execute the code\n",
    "- If there's an error or we want to modify the cell for some reason, we just change the content of the cell and request a new execution"
   ]
  },
  {
   "cell_type": "markdown",
   "metadata": {},
   "source": [
    "#### Defining and using functions\n",
    "\n",
    "The next two cells introduce a simple R function and then pose some questions that you can answer by modifying the second cell."
   ]
  },
  {
   "cell_type": "code",
   "execution_count": 2,
   "metadata": {},
   "outputs": [
    {
     "data": {
      "text/html": [
       "64"
      ],
      "text/latex": [
       "64"
      ],
      "text/markdown": [
       "64"
      ],
      "text/plain": [
       "[1] 64"
      ]
     },
     "metadata": {},
     "output_type": "display_data"
    }
   ],
   "source": [
    "# functional programming example\n",
    "cube = function(x) x^3\n",
    "cube(4)"
   ]
  },
  {
   "cell_type": "markdown",
   "metadata": {},
   "source": [
    "#### Exercises"
   ]
  },
  {
   "cell_type": "markdown",
   "metadata": {},
   "source": [
    "Ex1. What is the cube of 7?  Use the `cube` function"
   ]
  },
  {
   "cell_type": "code",
   "execution_count": 3,
   "metadata": {},
   "outputs": [
    {
     "data": {
      "text/html": [
       "343"
      ],
      "text/latex": [
       "343"
      ],
      "text/markdown": [
       "343"
      ],
      "text/plain": [
       "[1] 343"
      ]
     },
     "metadata": {},
     "output_type": "display_data"
    }
   ],
   "source": [
    "cube(7)"
   ]
  },
  {
   "cell_type": "markdown",
   "metadata": {
    "collapsed": true
   },
   "source": [
    "Ex2. Given the cube function, what is a concise way of defining a function that computes \n",
    "the ninth power of its argument, without invoking the exponential directly?"
   ]
  },
  {
   "cell_type": "code",
   "execution_count": 4,
   "metadata": {},
   "outputs": [
    {
     "data": {
      "text/html": [
       "262144"
      ],
      "text/latex": [
       "262144"
      ],
      "text/markdown": [
       "262144"
      ],
      "text/plain": [
       "[1] 262144"
      ]
     },
     "metadata": {},
     "output_type": "display_data"
    },
    {
     "data": {
      "text/html": [
       "262144"
      ],
      "text/latex": [
       "262144"
      ],
      "text/markdown": [
       "262144"
      ],
      "text/plain": [
       "[1] 262144"
      ]
     },
     "metadata": {},
     "output_type": "display_data"
    }
   ],
   "source": [
    "nin = function(x) cube(cube(x))\n",
    "    nin(4)\n",
    "    4^9"
   ]
  },
  {
   "cell_type": "markdown",
   "metadata": {},
   "source": [
    "To review: \n",
    "- `g = function(x, y, ...) { --- }` is R syntax to define a new function named \"g\" accepting a series of arguments.  \n",
    "- The body of the function (denoted `{ --- }`) uses the inputs and R programming to compute new values.\n",
    "- All program actions in R result from evaluating functions.\n"
   ]
  },
  {
   "cell_type": "markdown",
   "metadata": {},
   "source": [
    "### What is Bioconductor?\n",
    "\n",
    "While Bioconductor is built on R, a number of distinctions are worthy of attention:\n",
    "\n",
    "| R                                                                                                                                               | Bioconductor                                                                                                                |\n",
    "|-------------------------------------------------------------------------------------------------------------------------------------------------|-----------------------------------------------------------------------------------------------------------------------------|\n",
    "| a general-purpose programming for statistical computing and visualization                                                                       | R data structures, methods, and packages for Bioinformatics                                                                                                   |\n",
    "| a decentralized open-source project                                                                                                             | led by a Core Team of full-time developers                                                                                  |\n",
    "| provides methods primarily acting on generic data structures like `numeric`, `matrix`, `data.frame`, and \"tidyverse\" alternatives like `tibble` | provides methods primarily acting on integrative data structures for -omics like `GRanges` and `SummarizedExperiment`       |\n",
    "| is enhanced by the CRAN,ecosystem of >10K add-packages spanning all areas of science,,economics, computing, etc                                 | an ecosystem of >1,200 add-on packages                                                         |\n",
    "| CRAN enforces basic package requirements of man pages,and clean machine checks                                                                  | Bioconductor enforces additional package requirements of vignettes, re-use of core Bioconductor data structures, unit tests |\n",
    "| Wikipedia describes aspects of <a href=\"https://en.wikipedia.org/wiki/R_(programming_language)#Commercial_support_for_R\">commercially supported versions of R</a> | Bioconductor development is supported by several [NIH and EC](http://bioconductor.org/about/annual-reports/AnnRep2017.pdf) grants"
   ]
  },
  {
   "cell_type": "markdown",
   "metadata": {},
   "source": [
    "#### Working with objects\n",
    "\n",
    "Genome-scale experiments and annotations are complex.  The discipline of object-oriented programming became\n",
    "popular in the 1990s as a way of managing program complexity.  Briefly, we think of a class of objects -- say 'organism'.  Methods that apply to directly to instances of the 'organism' class include 'genes', 'transcripts', 'promoters'.  \n",
    "\n",
    "This concept is implemented fairly directly in Bioconductor, but there are gaps in certain places.  Let's\n",
    "just explore to establish a little familiarity.  We'll attach the Homo.sapiens library, which gives us access to an \n",
    "object called `Homo.sapiens`, which answers to a certain collection of methods.\n",
    "\n",
    " \n",
    "\n"
   ]
  },
  {
   "cell_type": "code",
   "execution_count": 5,
   "metadata": {},
   "outputs": [
    {
     "data": {
      "text/plain": [
       " [1] asBED                 asGFF                 cds                  \n",
       " [4] cdsBy                 coerce<-              columns              \n",
       " [7] dbconn                dbfile                disjointExons        \n",
       "[10] distance              exons                 exonsBy              \n",
       "[13] extractUpstreamSeqs   fiveUTRsByTranscript  genes                \n",
       "[16] getTxDbIfAvailable    intronsByTranscript   isActiveSeq          \n",
       "[19] isActiveSeq<-         keys                  keytypes             \n",
       "[22] mapIds                mapToTranscripts      metadata             \n",
       "[25] microRNAs             promoters             resources            \n",
       "[28] select                selectByRanges        selectRangesById     \n",
       "[31] seqinfo               show                  taxonomyId           \n",
       "[34] threeUTRsByTranscript transcripts           transcriptsBy        \n",
       "[37] tRNAs                 TxDb                  TxDb<-               \n",
       "see '?methods' for accessing help and source code"
      ]
     },
     "metadata": {},
     "output_type": "display_data"
    }
   ],
   "source": [
    "library(Homo.sapiens)\n",
    "methods(class=class(Homo.sapiens))"
   ]
  },
  {
   "cell_type": "code",
   "execution_count": 6,
   "metadata": {},
   "outputs": [
    {
     "data": {
      "text/plain": [
       "GRanges object with 23056 ranges and 1 metadata column:\n",
       "        seqnames                 ranges strand |       GENEID\n",
       "           <Rle>              <IRanges>  <Rle> | <FactorList>\n",
       "      1    chr19 [ 58858172,  58874214]      - |            1\n",
       "     10     chr8 [ 18248755,  18258723]      + |           10\n",
       "    100    chr20 [ 43248163,  43280376]      - |          100\n",
       "   1000    chr18 [ 25530930,  25757445]      - |         1000\n",
       "  10000     chr1 [243651535, 244006886]      - |        10000\n",
       "    ...      ...                    ...    ... .          ...\n",
       "   9991     chr9 [114979995, 115095944]      - |         9991\n",
       "   9992    chr21 [ 35736323,  35743440]      + |         9992\n",
       "   9993    chr22 [ 19023795,  19109967]      - |         9993\n",
       "   9994     chr6 [ 90539619,  90584155]      + |         9994\n",
       "   9997    chr22 [ 50961997,  50964905]      - |         9997\n",
       "  -------\n",
       "  seqinfo: 93 sequences (1 circular) from hg19 genome"
      ]
     },
     "metadata": {},
     "output_type": "display_data"
    }
   ],
   "source": [
    "genes(Homo.sapiens) # we'll look at this data structure in great detail later"
   ]
  },
  {
   "cell_type": "markdown",
   "metadata": {},
   "source": [
    "One benefit of the object-oriented discipline is that the same methods apply for different species -- once \n",
    "you have learned how to work with Homo.sapiens, the same tools apply for Mus.musculus, Rattus.norvegicus and \n",
    "so on."
   ]
  },
  {
   "cell_type": "markdown",
   "metadata": {},
   "source": [
    "### Upshots\n",
    "\n",
    "We've seen three important facets of the language/ecosystem\n",
    "\n",
    "- improvised software creation through __user-defined functions__\n",
    "- high-level concepts can be expressed as __methods__ applicable to __objects__ (instances of formally defined classes)\n",
    "- acquisition of complex, biologically meaningful 'objects' and 'methods' with __library()__\n",
    "\n",
    "__Use of library()__ is essential to acquire access to functions and documentation on library components.  This can be a stumbling block if you remember the name of a function of interest, but not the package in which it is defined.\n",
    "    \n",
    "Another feature worth bearing in mind: all computations in R proceed by __evaluation of functions__.  You may write scripts, but they will be sequences of function calls.  One prominent developer (D. Eddelbuettel) has [written](https://stat.ethz.ch/pipermail/r-devel/2018-January/075465.html) that \"Anything you do more than three times should be a\n",
    "function, and every function should be in a package\".  Thus full appreciation of\n",
    "R's potentials in scientific computing will ultimately involve understanding of\n",
    "function design and package creation and maintenance.\n",
    "\n",
    "Thus there are many ways of using software in R.  \n",
    "\n",
    "- write scripts and execute them at a command line using Rscript or unix-like pipes.\n",
    "- use a bespoke interactive development environment like Rstudio\n",
    "- use R as a command-line interpreter\n",
    "- use jupyter notebooks\n",
    "- use R through online \"apps\", often composed using the shiny package.\n",
    "    \n",
    "We'll explore some of these alternate approaches as we proceed.\n",
    "\n",
    "## Putting it all together\n",
    "\n",
    "Bioconductor’s core developer group works hard to develop data structures that allow users to work conveniently with genomes and genome-scale data. Structures are devised to support the main phases of experimentation in genome scale biology:\n",
    "\n",
    "- Parse large-scale assay data as produced by microarray or sequencer flow-cell scanners.\n",
    "- Preprocess the (relatively) raw data to support reliable statistical interpretation.\n",
    "- Combine assay quantifications with sample-level data to test hypotheses about relationships between molecular processes and organism-level characteristics such as growth, disease state.\n",
    "- In this course we will review the objects and functions that you can use to perform these and related tasks in your own research."
   ]
  },
  {
   "cell_type": "markdown",
   "metadata": {},
   "source": [
    "## Bioconductor installation and documentation\n",
    "\n",
    "### Installation support\n",
    "\n",
    "Once you have R you can obtain a utility for adding Bioconductor packages with\n",
    "\n",
    "```\n",
    "source(\"http://www.bioconductor.org/biocLite.R\")\n",
    "```\n",
    "\n",
    "This is sensitive to the version of R that you are using.  It installs and loads the BiocInstaller\n",
    "package.  Let's illustrate its use."
   ]
  },
  {
   "cell_type": "code",
   "execution_count": 7,
   "metadata": {},
   "outputs": [
    {
     "name": "stderr",
     "output_type": "stream",
     "text": [
      "Bioconductor version 3.6 (BiocInstaller 1.28.0), ?biocLite for help\n",
      "BioC_mirror: https://bioconductor.org\n",
      "Using Bioconductor 3.6 (BiocInstaller 1.28.0), R 3.4.3 (2017-11-30).\n",
      "Installing github package(s) ‘genomicsclass/GSE5859Subset’\n",
      "Skipping install of 'GSE5859Subset' from a github remote, the SHA1 (8ada5f4f) has not changed since last install.\n",
      "  Use `force = TRUE` to force installation\n"
     ]
    }
   ],
   "source": [
    "library(BiocInstaller)\n",
    "biocLite(\"genomicsclass/GSE5859Subset\", suppressUpdates=TRUE, suppressAutoUpdate=TRUE)  # this will be used later"
   ]
  },
  {
   "cell_type": "markdown",
   "metadata": {},
   "source": [
    "### Documentation\n",
    "\n",
    "For novices, large-scale help resources are always important.  \n",
    "\n",
    "- Bioconductor's __[main portal](http://www.bioconductor.org)__ has sections devoted to installation, learning, using, and developing.  There is a twitter feed for those who need to keep close by.\n",
    "- The __[support site](http://support.bioconductor.org)__ is active and friendly\n",
    "- R has extensive help resources at __[CRAN](http://cran.r-project.org)__ and within any instance "
   ]
  },
  {
   "cell_type": "code",
   "execution_count": 8,
   "metadata": {},
   "outputs": [],
   "source": [
    "# help.start() -- may not work with notebooks but very useful in Rstudio or at command line"
   ]
  },
  {
   "cell_type": "markdown",
   "metadata": {},
   "source": [
    "Documentation on any base or Bioconductor function can be found using the ?-operator "
   ]
  },
  {
   "cell_type": "code",
   "execution_count": 9,
   "metadata": {},
   "outputs": [],
   "source": [
    "?mean # use ?? to find documentation on functions in all installed packages"
   ]
  },
  {
   "cell_type": "markdown",
   "metadata": {},
   "source": [
    "All good manual pages include executable examples"
   ]
  },
  {
   "cell_type": "code",
   "execution_count": 10,
   "metadata": {},
   "outputs": [
    {
     "name": "stdout",
     "output_type": "stream",
     "text": [
      "\n",
      "lm> require(graphics)\n",
      "\n",
      "lm> ## Annette Dobson (1990) \"An Introduction to Generalized Linear Models\".\n",
      "lm> ## Page 9: Plant Weight Data.\n",
      "lm> ctl <- c(4.17,5.58,5.18,6.11,4.50,4.61,5.17,4.53,5.33,5.14)\n",
      "\n",
      "lm> trt <- c(4.81,4.17,4.41,3.59,5.87,3.83,6.03,4.89,4.32,4.69)\n",
      "\n",
      "lm> group <- gl(2, 10, 20, labels = c(\"Ctl\",\"Trt\"))\n",
      "\n",
      "lm> weight <- c(ctl, trt)\n",
      "\n",
      "lm> lm.D9 <- lm(weight ~ group)\n",
      "\n",
      "lm> lm.D90 <- lm(weight ~ group - 1) # omitting intercept\n",
      "\n",
      "lm> ## No test: \n",
      "lm> ##D anova(lm.D9)\n",
      "lm> ##D summary(lm.D90)\n",
      "lm> ## End(No test)\n",
      "lm> opar <- par(mfrow = c(2,2), oma = c(0, 0, 1.1, 0))\n",
      "\n",
      "lm> plot(lm.D9, las = 1)      # Residuals, Fitted, ...\n",
      "\n",
      "lm> par(opar)\n",
      "\n",
      "lm> ## Don't show: \n",
      "lm> ## model frame :\n",
      "lm> stopifnot(identical(lm(weight ~ group, method = \"model.frame\"),\n",
      "lm+                     model.frame(lm.D9)))\n",
      "\n",
      "lm> ## End(Don't show)\n",
      "lm> ### less simple examples in \"See Also\" above\n",
      "lm> \n",
      "lm> \n",
      "lm> \n"
     ]
    },
    {
     "data": {
      "image/png": "[encoded data removed]",
      "text/plain": [
       "Plot with title “”"
      ]
     },
     "metadata": {},
     "output_type": "display_data"
    }
   ],
   "source": [
    "example(lm)"
   ]
  },
  {
   "cell_type": "markdown",
   "metadata": {},
   "source": [
    "We can get 'package level' help -- a concise description and list of documented functions."
   ]
  },
  {
   "cell_type": "code",
   "execution_count": 11,
   "metadata": {},
   "outputs": [
    {
     "data": {},
     "metadata": {},
     "output_type": "display_data"
    }
   ],
   "source": [
    "help(package=\"genefilter\", help_type=\"html\") # generates embedded view of DESCRIPTION and function index"
   ]
  },
  {
   "cell_type": "markdown",
   "metadata": {},
   "source": [
    "Large-scale documentation that narrates and illustrates package (as opposed to function) capabilities is provided in vignettes."
   ]
  },
  {
   "cell_type": "code",
   "execution_count": 12,
   "metadata": {},
   "outputs": [],
   "source": [
    "# vignette() # This will generate an HTML page in notebook"
   ]
  },
  {
   "cell_type": "code",
   "execution_count": 13,
   "metadata": {},
   "outputs": [],
   "source": [
    "# vignette(\"create_objects\", package=\"pasilla\") # this will start the browser to a vignette document"
   ]
  },
  {
   "cell_type": "markdown",
   "metadata": {},
   "source": [
    "In summary: documentation for Bioconductor and R utilities is diverse but discovery is supported in many ways.  RTFM."
   ]
  },
  {
   "cell_type": "markdown",
   "metadata": {},
   "source": [
    "## Data structure and management for genome-scale experiments\n",
    "\n",
    "Data management is often regarded as a specialized and tedious dimension of scientific research. \n",
    "\n",
    "- Because failures of data management are extremely costly in terms of resources and reputation, highly reliable and efficient methods are essential. \n",
    "- Customary lab science practice of maintaining data in spreadsheets is regarded as risky. We want to add value to data by making it easier to follow reliable data management practices.\n",
    "\n",
    "In Bioconductor, principles that guide software development are applied in data management strategy. \n",
    "\n",
    "- High value accrues to data structures that are modular and extensible. \n",
    "- Packaging and version control protocols apply to data class definitions. \n",
    "- We will motivate and illustrate these ideas by \n",
    "    - giving examples of transforming spreadsheets to semantically rich objects, \n",
    "    - working with the NCBI GEO archive, \n",
    "    - dealing with families of BAM and BED files, and (optionally)\n",
    "    - using external storage to foster coherent interfaces to large multiomic archives like TCGA."
   ]
  },
  {
   "cell_type": "markdown",
   "metadata": {},
   "source": [
    "### Coordinating information from multiple tables\n",
    "\n",
    "With the GSE5859Subset package, we illustrate a \"natural\" approach to collecting microarray data and its annotation."
   ]
  },
  {
   "cell_type": "code",
   "execution_count": 14,
   "metadata": {},
   "outputs": [
    {
     "data": {
      "text/html": [
       "<ol class=list-inline>\n",
       "\t<li>'ctl'</li>\n",
       "\t<li>'cube'</li>\n",
       "\t<li>'geneAnnotation'</li>\n",
       "\t<li>'geneExpression'</li>\n",
       "\t<li>'group'</li>\n",
       "\t<li>'lm.D9'</li>\n",
       "\t<li>'lm.D90'</li>\n",
       "\t<li>'nin'</li>\n",
       "\t<li>'opar'</li>\n",
       "\t<li>'sampleInfo'</li>\n",
       "\t<li>'trt'</li>\n",
       "\t<li>'weight'</li>\n",
       "</ol>\n"
      ],
      "text/latex": [
       "\\begin{enumerate*}\n",
       "\\item 'ctl'\n",
       "\\item 'cube'\n",
       "\\item 'geneAnnotation'\n",
       "\\item 'geneExpression'\n",
       "\\item 'group'\n",
       "\\item 'lm.D9'\n",
       "\\item 'lm.D90'\n",
       "\\item 'nin'\n",
       "\\item 'opar'\n",
       "\\item 'sampleInfo'\n",
       "\\item 'trt'\n",
       "\\item 'weight'\n",
       "\\end{enumerate*}\n"
      ],
      "text/markdown": [
       "1. 'ctl'\n",
       "2. 'cube'\n",
       "3. 'geneAnnotation'\n",
       "4. 'geneExpression'\n",
       "5. 'group'\n",
       "6. 'lm.D9'\n",
       "7. 'lm.D90'\n",
       "8. 'nin'\n",
       "9. 'opar'\n",
       "10. 'sampleInfo'\n",
       "11. 'trt'\n",
       "12. 'weight'\n",
       "\n",
       "\n"
      ],
      "text/plain": [
       " [1] \"ctl\"            \"cube\"           \"geneAnnotation\" \"geneExpression\"\n",
       " [5] \"group\"          \"lm.D9\"          \"lm.D90\"         \"nin\"           \n",
       " [9] \"opar\"           \"sampleInfo\"     \"trt\"            \"weight\"        "
      ]
     },
     "metadata": {},
     "output_type": "display_data"
    }
   ],
   "source": [
    "library(GSE5859Subset)\n",
    "data(GSE5859Subset) # will 'create' geneExpression, sampleInfo, geneAnnotation\n",
    "ls()"
   ]
  },
  {
   "cell_type": "code",
   "execution_count": 15,
   "metadata": {},
   "outputs": [
    {
     "data": {
      "text/html": [
       "<ol class=list-inline>\n",
       "\t<li>8793</li>\n",
       "\t<li>24</li>\n",
       "</ol>\n"
      ],
      "text/latex": [
       "\\begin{enumerate*}\n",
       "\\item 8793\n",
       "\\item 24\n",
       "\\end{enumerate*}\n"
      ],
      "text/markdown": [
       "1. 8793\n",
       "2. 24\n",
       "\n",
       "\n"
      ],
      "text/plain": [
       "[1] 8793   24"
      ]
     },
     "metadata": {},
     "output_type": "display_data"
    }
   ],
   "source": [
    "dim(geneExpression)"
   ]
  },
  {
   "cell_type": "code",
   "execution_count": 16,
   "metadata": {},
   "outputs": [
    {
     "data": {
      "text/html": [
       "<table>\n",
       "<thead><tr><th></th><th scope=col>GSM136508.CEL.gz</th><th scope=col>GSM136530.CEL.gz</th><th scope=col>GSM136517.CEL.gz</th><th scope=col>GSM136576.CEL.gz</th><th scope=col>GSM136566.CEL.gz</th></tr></thead>\n",
       "<tbody>\n",
       "\t<tr><th scope=row>1007_s_at</th><td>6.543954</td><td>6.401470</td><td>6.298943</td><td>6.837899</td><td>6.470689</td></tr>\n",
       "\t<tr><th scope=row>1053_at</th><td>7.546708</td><td>7.263547</td><td>7.201699</td><td>7.052761</td><td>6.980207</td></tr>\n",
       "\t<tr><th scope=row>117_at</th><td>5.402622</td><td>5.050546</td><td>5.024917</td><td>5.304313</td><td>5.214149</td></tr>\n",
       "\t<tr><th scope=row>121_at</th><td>7.892544</td><td>7.707754</td><td>7.461886</td><td>7.558130</td><td>7.819013</td></tr>\n",
       "\t<tr><th scope=row>1255_g_at</th><td>3.242779</td><td>3.222804</td><td>3.185605</td><td>3.195363</td><td>3.251915</td></tr>\n",
       "\t<tr><th scope=row>1294_at</th><td>7.531754</td><td>7.090270</td><td>7.466018</td><td>7.122145</td><td>7.058973</td></tr>\n",
       "</tbody>\n",
       "</table>\n"
      ],
      "text/latex": [
       "\\begin{tabular}{r|lllll}\n",
       "  & GSM136508.CEL.gz & GSM136530.CEL.gz & GSM136517.CEL.gz & GSM136576.CEL.gz & GSM136566.CEL.gz\\\\\n",
       "\\hline\n",
       "\t1007\\_s\\_at & 6.543954 & 6.401470 & 6.298943 & 6.837899 & 6.470689\\\\\n",
       "\t1053\\_at & 7.546708 & 7.263547 & 7.201699 & 7.052761 & 6.980207\\\\\n",
       "\t117\\_at & 5.402622 & 5.050546 & 5.024917 & 5.304313 & 5.214149\\\\\n",
       "\t121\\_at & 7.892544 & 7.707754 & 7.461886 & 7.558130 & 7.819013\\\\\n",
       "\t1255\\_g\\_at & 3.242779 & 3.222804 & 3.185605 & 3.195363 & 3.251915\\\\\n",
       "\t1294\\_at & 7.531754 & 7.090270 & 7.466018 & 7.122145 & 7.058973\\\\\n",
       "\\end{tabular}\n"
      ],
      "text/markdown": [
       "\n",
       "| <!--/--> | GSM136508.CEL.gz | GSM136530.CEL.gz | GSM136517.CEL.gz | GSM136576.CEL.gz | GSM136566.CEL.gz | \n",
       "|---|---|---|---|---|---|\n",
       "| 1007_s_at | 6.543954 | 6.401470 | 6.298943 | 6.837899 | 6.470689 | \n",
       "| 1053_at | 7.546708 | 7.263547 | 7.201699 | 7.052761 | 6.980207 | \n",
       "| 117_at | 5.402622 | 5.050546 | 5.024917 | 5.304313 | 5.214149 | \n",
       "| 121_at | 7.892544 | 7.707754 | 7.461886 | 7.558130 | 7.819013 | \n",
       "| 1255_g_at | 3.242779 | 3.222804 | 3.185605 | 3.195363 | 3.251915 | \n",
       "| 1294_at | 7.531754 | 7.090270 | 7.466018 | 7.122145 | 7.058973 | \n",
       "\n",
       "\n"
      ],
      "text/plain": [
       "          GSM136508.CEL.gz GSM136530.CEL.gz GSM136517.CEL.gz GSM136576.CEL.gz\n",
       "1007_s_at 6.543954         6.401470         6.298943         6.837899        \n",
       "1053_at   7.546708         7.263547         7.201699         7.052761        \n",
       "117_at    5.402622         5.050546         5.024917         5.304313        \n",
       "121_at    7.892544         7.707754         7.461886         7.558130        \n",
       "1255_g_at 3.242779         3.222804         3.185605         3.195363        \n",
       "1294_at   7.531754         7.090270         7.466018         7.122145        \n",
       "          GSM136566.CEL.gz\n",
       "1007_s_at 6.470689        \n",
       "1053_at   6.980207        \n",
       "117_at    5.214149        \n",
       "121_at    7.819013        \n",
       "1255_g_at 3.251915        \n",
       "1294_at   7.058973        "
      ]
     },
     "metadata": {},
     "output_type": "display_data"
    }
   ],
   "source": [
    "head(geneExpression[,1:5])"
   ]
  },
  {
   "cell_type": "code",
   "execution_count": 17,
   "metadata": {},
   "outputs": [
    {
     "data": {
      "text/html": [
       "<table>\n",
       "<thead><tr><th></th><th scope=col>ethnicity</th><th scope=col>date</th><th scope=col>filename</th><th scope=col>group</th></tr></thead>\n",
       "<tbody>\n",
       "\t<tr><th scope=row>107</th><td>ASN             </td><td>2005-06-23      </td><td>GSM136508.CEL.gz</td><td>1               </td></tr>\n",
       "\t<tr><th scope=row>122</th><td>ASN             </td><td>2005-06-27      </td><td>GSM136530.CEL.gz</td><td>1               </td></tr>\n",
       "\t<tr><th scope=row>113</th><td>ASN             </td><td>2005-06-27      </td><td>GSM136517.CEL.gz</td><td>1               </td></tr>\n",
       "\t<tr><th scope=row>163</th><td>ASN             </td><td>2005-10-28      </td><td>GSM136576.CEL.gz</td><td>1               </td></tr>\n",
       "\t<tr><th scope=row>153</th><td>ASN             </td><td>2005-10-07      </td><td>GSM136566.CEL.gz</td><td>1               </td></tr>\n",
       "\t<tr><th scope=row>161</th><td>ASN             </td><td>2005-10-07      </td><td>GSM136574.CEL.gz</td><td>1               </td></tr>\n",
       "</tbody>\n",
       "</table>\n"
      ],
      "text/latex": [
       "\\begin{tabular}{r|llll}\n",
       "  & ethnicity & date & filename & group\\\\\n",
       "\\hline\n",
       "\t107 & ASN              & 2005-06-23       & GSM136508.CEL.gz & 1               \\\\\n",
       "\t122 & ASN              & 2005-06-27       & GSM136530.CEL.gz & 1               \\\\\n",
       "\t113 & ASN              & 2005-06-27       & GSM136517.CEL.gz & 1               \\\\\n",
       "\t163 & ASN              & 2005-10-28       & GSM136576.CEL.gz & 1               \\\\\n",
       "\t153 & ASN              & 2005-10-07       & GSM136566.CEL.gz & 1               \\\\\n",
       "\t161 & ASN              & 2005-10-07       & GSM136574.CEL.gz & 1               \\\\\n",
       "\\end{tabular}\n"
      ],
      "text/markdown": [
       "\n",
       "| <!--/--> | ethnicity | date | filename | group | \n",
       "|---|---|---|---|---|---|\n",
       "| 107 | ASN              | 2005-06-23       | GSM136508.CEL.gz | 1                | \n",
       "| 122 | ASN              | 2005-06-27       | GSM136530.CEL.gz | 1                | \n",
       "| 113 | ASN              | 2005-06-27       | GSM136517.CEL.gz | 1                | \n",
       "| 163 | ASN              | 2005-10-28       | GSM136576.CEL.gz | 1                | \n",
       "| 153 | ASN              | 2005-10-07       | GSM136566.CEL.gz | 1                | \n",
       "| 161 | ASN              | 2005-10-07       | GSM136574.CEL.gz | 1                | \n",
       "\n",
       "\n"
      ],
      "text/plain": [
       "    ethnicity date       filename         group\n",
       "107 ASN       2005-06-23 GSM136508.CEL.gz 1    \n",
       "122 ASN       2005-06-27 GSM136530.CEL.gz 1    \n",
       "113 ASN       2005-06-27 GSM136517.CEL.gz 1    \n",
       "163 ASN       2005-10-28 GSM136576.CEL.gz 1    \n",
       "153 ASN       2005-10-07 GSM136566.CEL.gz 1    \n",
       "161 ASN       2005-10-07 GSM136574.CEL.gz 1    "
      ]
     },
     "metadata": {},
     "output_type": "display_data"
    }
   ],
   "source": [
    "head(sampleInfo)"
   ]
  },
  {
   "cell_type": "code",
   "execution_count": 18,
   "metadata": {},
   "outputs": [
    {
     "data": {
      "text/html": [
       "<table>\n",
       "<thead><tr><th></th><th scope=col>PROBEID</th><th scope=col>CHR</th><th scope=col>CHRLOC</th><th scope=col>SYMBOL</th></tr></thead>\n",
       "<tbody>\n",
       "\t<tr><th scope=row>1</th><td>1007_s_at </td><td>chr6      </td><td>  30852327</td><td>DDR1      </td></tr>\n",
       "\t<tr><th scope=row>30</th><td>1053_at   </td><td>chr7      </td><td> -73645832</td><td>RFC2      </td></tr>\n",
       "\t<tr><th scope=row>31</th><td>117_at    </td><td>chr1      </td><td> 161494036</td><td>HSPA6     </td></tr>\n",
       "\t<tr><th scope=row>32</th><td>121_at    </td><td>chr2      </td><td>-113973574</td><td>PAX8      </td></tr>\n",
       "\t<tr><th scope=row>33</th><td>1255_g_at </td><td>chr6      </td><td>  42123144</td><td>GUCA1A    </td></tr>\n",
       "\t<tr><th scope=row>34</th><td>1294_at   </td><td>chr3      </td><td> -49842638</td><td>UBA7      </td></tr>\n",
       "</tbody>\n",
       "</table>\n"
      ],
      "text/latex": [
       "\\begin{tabular}{r|llll}\n",
       "  & PROBEID & CHR & CHRLOC & SYMBOL\\\\\n",
       "\\hline\n",
       "\t1 & 1007\\_s\\_at & chr6          &   30852327    & DDR1         \\\\\n",
       "\t30 & 1053\\_at   & chr7        &  -73645832  & RFC2       \\\\\n",
       "\t31 & 117\\_at    & chr1        &  161494036  & HSPA6      \\\\\n",
       "\t32 & 121\\_at    & chr2        & -113973574  & PAX8       \\\\\n",
       "\t33 & 1255\\_g\\_at & chr6          &   42123144    & GUCA1A       \\\\\n",
       "\t34 & 1294\\_at   & chr3        &  -49842638  & UBA7       \\\\\n",
       "\\end{tabular}\n"
      ],
      "text/markdown": [
       "\n",
       "| <!--/--> | PROBEID | CHR | CHRLOC | SYMBOL | \n",
       "|---|---|---|---|---|---|\n",
       "| 1 | 1007_s_at  | chr6       |   30852327 | DDR1       | \n",
       "| 30 | 1053_at    | chr7       |  -73645832 | RFC2       | \n",
       "| 31 | 117_at     | chr1       |  161494036 | HSPA6      | \n",
       "| 32 | 121_at     | chr2       | -113973574 | PAX8       | \n",
       "| 33 | 1255_g_at  | chr6       |   42123144 | GUCA1A     | \n",
       "| 34 | 1294_at    | chr3       |  -49842638 | UBA7       | \n",
       "\n",
       "\n"
      ],
      "text/plain": [
       "   PROBEID   CHR  CHRLOC     SYMBOL\n",
       "1  1007_s_at chr6   30852327 DDR1  \n",
       "30 1053_at   chr7  -73645832 RFC2  \n",
       "31 117_at    chr1  161494036 HSPA6 \n",
       "32 121_at    chr2 -113973574 PAX8  \n",
       "33 1255_g_at chr6   42123144 GUCA1A\n",
       "34 1294_at   chr3  -49842638 UBA7  "
      ]
     },
     "metadata": {},
     "output_type": "display_data"
    }
   ],
   "source": [
    "head(geneAnnotation)"
   ]
  },
  {
   "cell_type": "markdown",
   "metadata": {},
   "source": [
    "Here we have three objects in R that are conceptually linked.  We notice that `sampleInfo` has an ethnicity token and that the column names for the `geneExpression` table are similar in format to the `filename` field of `sampleInfo`.  Let's check that they in fact agree:"
   ]
  },
  {
   "cell_type": "code",
   "execution_count": 19,
   "metadata": {},
   "outputs": [
    {
     "data": {
      "text/html": [
       "TRUE"
      ],
      "text/latex": [
       "TRUE"
      ],
      "text/markdown": [
       "TRUE"
      ],
      "text/plain": [
       "[1] TRUE"
      ]
     },
     "metadata": {},
     "output_type": "display_data"
    }
   ],
   "source": [
    "all(sampleInfo$filename == colnames(geneExpression))"
   ]
  },
  {
   "cell_type": "markdown",
   "metadata": {},
   "source": [
    "The class of `sampleInfo` is `data.frame`.  We can refer to columns using the `$` operator.  Thus we can tabulate the\n",
    "`group` field (which corresponds to gender):"
   ]
  },
  {
   "cell_type": "code",
   "execution_count": 20,
   "metadata": {},
   "outputs": [
    {
     "data": {
      "text/plain": [
       "\n",
       " 0  1 \n",
       "12 12 "
      ]
     },
     "metadata": {},
     "output_type": "display_data"
    }
   ],
   "source": [
    "table(sampleInfo$group)"
   ]
  },
  {
   "cell_type": "markdown",
   "metadata": {
    "collapsed": true
   },
   "source": [
    "#### Exercises\n",
    "\n",
    "Ex4. Tabulate the ethnicity for samples in this dataset"
   ]
  },
  {
   "cell_type": "code",
   "execution_count": null,
   "metadata": {},
   "outputs": [],
   "source": []
  },
  {
   "cell_type": "markdown",
   "metadata": {},
   "source": [
    "Ex5. We can compare distributions of expression of gene PAX8 by group as follows:"
   ]
  },
  {
   "cell_type": "code",
   "execution_count": 21,
   "metadata": {
    "scrolled": true
   },
   "outputs": [
    {
     "data": {
      "image/png": "[encoded data removed]",
      "text/plain": [
       "plot without title"
      ]
     },
     "metadata": {},
     "output_type": "display_data"
    }
   ],
   "source": [
    "boxplot(split(geneExpression[which(geneAnnotation$SYMBOL==\"PAX8\"),], sampleInfo$group), ylab=\"PAX8\", xlab=\"group\")"
   ]
  },
  {
   "cell_type": "markdown",
   "metadata": {},
   "source": [
    "Produce the same type of visual comparison for gene DDR1."
   ]
  },
  {
   "cell_type": "code",
   "execution_count": null,
   "metadata": {},
   "outputs": [],
   "source": []
  },
  {
   "cell_type": "markdown",
   "metadata": {},
   "source": [
    "####  Unifying the tables with ExpressionSet in the Biobase package\n",
    "\n",
    "We can simplify interactions with gene expression experiments by using an object to unify the different\n",
    "information sources.  The following schematic helps to understand the objective.  For $N$ samples, a $G \\times N$\n",
    "table records gene expression values.  An $N \\times R$ table records the sample information.  The ExpressionSet object `X` is\n",
    "designed so that `X[i, j]` manages genes enumerated with `i` and samples enumerated with `j`.\n",
    "\n",
    "<img src=\"https://raw.githubusercontent.com/vjcitn/BrownCOBRE2018/master/notebooks/esetFreeH.png\" height=\"380\" width=\"380\"></img>\n",
    "\n",
    "The ExpressionSet class is routinely used for microarray studies.  To begin, we will enhance\n",
    "the annotation of the metadata components"
   ]
  },
  {
   "cell_type": "code",
   "execution_count": 22,
   "metadata": {},
   "outputs": [],
   "source": [
    "rownames(sampleInfo) = sampleInfo$filename\n",
    "rownames(geneAnnotation) = geneAnnotation$PROBEID"
   ]
  },
  {
   "cell_type": "markdown",
   "metadata": {},
   "source": [
    "Now we build up the unified instance"
   ]
  },
  {
   "cell_type": "code",
   "execution_count": 23,
   "metadata": {},
   "outputs": [
    {
     "data": {
      "text/plain": [
       "ExpressionSet (storageMode: lockedEnvironment)\n",
       "assayData: 8793 features, 24 samples \n",
       "  element names: exprs \n",
       "protocolData: none\n",
       "phenoData\n",
       "  sampleNames: GSM136508.CEL.gz GSM136530.CEL.gz ... GSM136572.CEL.gz\n",
       "    (24 total)\n",
       "  varLabels: ethnicity date filename group\n",
       "  varMetadata: labelDescription\n",
       "featureData\n",
       "  featureNames: 1007_s_at 1053_at ... AFFX-r2-P1-cre-5_at (8793 total)\n",
       "  fvarLabels: PROBEID CHR CHRLOC SYMBOL\n",
       "  fvarMetadata: labelDescription\n",
       "experimentData: use 'experimentData(object)'\n",
       "Annotation:  "
      ]
     },
     "metadata": {},
     "output_type": "display_data"
    }
   ],
   "source": [
    "library(Biobase)  # provides the class definition\n",
    "es5859 = ExpressionSet(assayData=geneExpression)  # start the unification\n",
    "pData(es5859) = sampleInfo  # add sample-level data\n",
    "fData(es5859) = geneAnnotation  # add gene level data\n",
    "es5859  # get a report"
   ]
  },
  {
   "cell_type": "markdown",
   "metadata": {},
   "source": [
    "We can now program with a single data object to develop our comparative plots.  We need to know that methods `exprs`, \n",
    "`fData`, and `[[` behave in certain ways for instances of ExpressionSet."
   ]
  },
  {
   "cell_type": "code",
   "execution_count": 24,
   "metadata": {},
   "outputs": [
    {
     "data": {
      "image/png": "[encoded data removed]",
      "text/plain": [
       "plot without title"
      ]
     },
     "metadata": {},
     "output_type": "display_data"
    }
   ],
   "source": [
    "twoSamplePlot = function(es, stratvar, symbol, selected=1) {\n",
    "    # selected parameter needed for genes that have multiple probes\n",
    "    boxplot(split(exprs(es[which(fData(es)$SYMBOL==symbol)[selected],]), \n",
    "                  es[[stratvar]]),xlab=stratvar, ylab=symbol)\n",
    "}\n",
    "twoSamplePlot(es5859, stratvar=\"group\", symbol=\"BRCA2\")"
   ]
  },
  {
   "cell_type": "markdown",
   "metadata": {},
   "source": [
    "#### Adding some metadata on publication origins\n",
    "\n",
    "The annotate package includes a function that retrieves information about the paper associated with\n",
    "an experiment."
   ]
  },
  {
   "cell_type": "code",
   "execution_count": 25,
   "metadata": {},
   "outputs": [
    {
     "name": "stderr",
     "output_type": "stream",
     "text": [
      "Loading required package: XML\n"
     ]
    },
    {
     "data": {
      "text/plain": [
       "ExpressionSet (storageMode: lockedEnvironment)\n",
       "assayData: 8793 features, 24 samples \n",
       "  element names: exprs \n",
       "protocolData: none\n",
       "phenoData\n",
       "  sampleNames: GSM136508.CEL.gz GSM136530.CEL.gz ... GSM136572.CEL.gz\n",
       "    (24 total)\n",
       "  varLabels: ethnicity date filename group\n",
       "  varMetadata: labelDescription\n",
       "featureData\n",
       "  featureNames: 1007_s_at 1053_at ... AFFX-r2-P1-cre-5_at (8793 total)\n",
       "  fvarLabels: PROBEID CHR CHRLOC SYMBOL\n",
       "  fvarMetadata: labelDescription\n",
       "experimentData: use 'experimentData(object)'\n",
       "  pubMedIds: 17206142 \n",
       "Annotation:  "
      ]
     },
     "metadata": {},
     "output_type": "display_data"
    }
   ],
   "source": [
    "library(annotate)\n",
    "mi = pmid2MIAME(\"17206142\")\n",
    "experimentData(es5859) = mi\n",
    "es5859"
   ]
  },
  {
   "cell_type": "markdown",
   "metadata": {},
   "source": [
    "We have now bound the textual abstract of the associated paper into the ExpressionSet."
   ]
  },
  {
   "cell_type": "code",
   "execution_count": 26,
   "metadata": {},
   "outputs": [
    {
     "data": {
      "text/html": [
       "'Variation in DNA sequence contributes to individual differences in quantitative traits, but in humans the specific sequence variants are known for very few traits. We characterized variation in gene expression in cells from individuals belonging to three major population groups. This quantitative phenotype differs significantly between European-derived and Asian-derived populations for 1,097 of 4,197 genes tested. For the phenotypes with the strongest evidence of cis determinants, most of the variation is due to allele frequency differences at cis-linked regulators. The results show that specific genetic variation among populations contributes appreciably to differences in gene expression phenotypes. Populations differ in prevalence of many complex genetic diseases, such as diabetes and cardiovascular disease. As some of these are probably influenced by the level of gene expression, our results suggest that allele frequency differences at regulatory polymorphisms also account for some population differences in prevalence of complex diseases.'"
      ],
      "text/latex": [
       "'Variation in DNA sequence contributes to individual differences in quantitative traits, but in humans the specific sequence variants are known for very few traits. We characterized variation in gene expression in cells from individuals belonging to three major population groups. This quantitative phenotype differs significantly between European-derived and Asian-derived populations for 1,097 of 4,197 genes tested. For the phenotypes with the strongest evidence of cis determinants, most of the variation is due to allele frequency differences at cis-linked regulators. The results show that specific genetic variation among populations contributes appreciably to differences in gene expression phenotypes. Populations differ in prevalence of many complex genetic diseases, such as diabetes and cardiovascular disease. As some of these are probably influenced by the level of gene expression, our results suggest that allele frequency differences at regulatory polymorphisms also account for some population differences in prevalence of complex diseases.'"
      ],
      "text/markdown": [
       "'Variation in DNA sequence contributes to individual differences in quantitative traits, but in humans the specific sequence variants are known for very few traits. We characterized variation in gene expression in cells from individuals belonging to three major population groups. This quantitative phenotype differs significantly between European-derived and Asian-derived populations for 1,097 of 4,197 genes tested. For the phenotypes with the strongest evidence of cis determinants, most of the variation is due to allele frequency differences at cis-linked regulators. The results show that specific genetic variation among populations contributes appreciably to differences in gene expression phenotypes. Populations differ in prevalence of many complex genetic diseases, such as diabetes and cardiovascular disease. As some of these are probably influenced by the level of gene expression, our results suggest that allele frequency differences at regulatory polymorphisms also account for some population differences in prevalence of complex diseases.'"
      ],
      "text/plain": [
       "[1] \"Variation in DNA sequence contributes to individual differences in quantitative traits, but in humans the specific sequence variants are known for very few traits. We characterized variation in gene expression in cells from individuals belonging to three major population groups. This quantitative phenotype differs significantly between European-derived and Asian-derived populations for 1,097 of 4,197 genes tested. For the phenotypes with the strongest evidence of cis determinants, most of the variation is due to allele frequency differences at cis-linked regulators. The results show that specific genetic variation among populations contributes appreciably to differences in gene expression phenotypes. Populations differ in prevalence of many complex genetic diseases, such as diabetes and cardiovascular disease. As some of these are probably influenced by the level of gene expression, our results suggest that allele frequency differences at regulatory polymorphisms also account for some population differences in prevalence of complex diseases.\""
      ]
     },
     "metadata": {},
     "output_type": "display_data"
    }
   ],
   "source": [
    "abstract(es5859)"
   ]
  },
  {
   "cell_type": "markdown",
   "metadata": {},
   "source": [
    "### Working with NCBI GEO to retrieve experiments of interest\n",
    "\n",
    "Now that we have a unified representation of collections of microarrays, we can use it to manage\n",
    "information retrieved from GEO.  The GEOquery package makes it very easy to obtain series of\n",
    "microarray experiments.\n",
    "\n",
    "There are results of tens of thousands of experiments in GEO. The GEOmetadb includes tools to acquire and query a SQLite database with extensive annotation of GEO contents. The database retrieved in October 2017 was over 6 GB in size. Thus we do not require that you use this package. If you are interested, the vignette is very thorough.\n",
    "\n",
    "We used GEOmetadb to find the name (GSE accession number) of an experiment that studied the effects of applying a compound to\n",
    "cells derived from glioblastoma tumors.\n",
    "\n",
    "__N.B.: The following code takes a while to run -- maybe two minutes ...__"
   ]
  },
  {
   "cell_type": "code",
   "execution_count": 27,
   "metadata": {},
   "outputs": [
    {
     "name": "stderr",
     "output_type": "stream",
     "text": [
      "Found 1 file(s)\n",
      "GSE78703_series_matrix.txt.gz\n",
      "Parsed with column specification:\n",
      "cols(\n",
      "  ID_REF = col_character(),\n",
      "  GSM2072905 = col_double(),\n",
      "  GSM2072906 = col_double(),\n",
      "  GSM2072907 = col_double(),\n",
      "  GSM2072908 = col_double(),\n",
      "  GSM2072909 = col_double(),\n",
      "  GSM2072910 = col_double(),\n",
      "  GSM2072911 = col_double(),\n",
      "  GSM2072912 = col_double(),\n",
      "  GSM2072913 = col_double(),\n",
      "  GSM2072914 = col_double(),\n",
      "  GSM2072915 = col_double(),\n",
      "  GSM2072916 = col_double()\n",
      ")\n",
      "File stored at: \n",
      "/tmp/Rtmpd2HSNg/GPL15207.soft\n"
     ]
    }
   ],
   "source": [
    "library(GEOquery)\n",
    "glioMA = getGEO(\"GSE78703\")[[1]]\n",
    "\n",
    "# Local mirror of file in case of connection problems\n",
    "#glioMA <- getGEO(filename = \"/home/ubuntu/glioma/GSE78703_series_matrix.txt.gz\")"
   ]
  },
  {
   "cell_type": "code",
   "execution_count": 28,
   "metadata": {},
   "outputs": [
    {
     "data": {
      "text/plain": [
       "ExpressionSet (storageMode: lockedEnvironment)\n",
       "assayData: 49395 features, 12 samples \n",
       "  element names: exprs \n",
       "protocolData: none\n",
       "phenoData\n",
       "  sampleNames: GSM2072905 GSM2072906 ... GSM2072916 (12 total)\n",
       "  varLabels: title geo_accession ... treated with:ch1 (35 total)\n",
       "  varMetadata: labelDescription\n",
       "featureData\n",
       "  featureNames: 11715100_at 11715101_s_at ... AFFX-TrpnX-M_at (49395\n",
       "    total)\n",
       "  fvarLabels: ID GeneChip Array ... SPOT_ID (24 total)\n",
       "  fvarMetadata: Column Description labelDescription\n",
       "experimentData: use 'experimentData(object)'\n",
       "Annotation: GPL15207 "
      ]
     },
     "metadata": {},
     "output_type": "display_data"
    }
   ],
   "source": [
    "glioMA"
   ]
  },
  {
   "cell_type": "markdown",
   "metadata": {},
   "source": [
    "This object responds to all the methods we've already used.  For example:"
   ]
  },
  {
   "cell_type": "code",
   "execution_count": 29,
   "metadata": {},
   "outputs": [
    {
     "data": {
      "text/html": [
       "<table>\n",
       "<thead><tr><th></th><th scope=col>ID</th><th scope=col>GeneChip Array</th><th scope=col>Species Scientific Name</th><th scope=col>Annotation Date</th><th scope=col>Sequence Type</th><th scope=col>Sequence Source</th><th scope=col>Transcript ID(Array Design)</th><th scope=col>Target Description</th><th scope=col>GB_ACC</th><th scope=col>GI</th><th scope=col>⋯</th><th scope=col>Gene Symbol</th><th scope=col>Chromosomal Location</th><th scope=col>Unigene Cluster Type</th><th scope=col>Ensembl</th><th scope=col>Entrez Gene</th><th scope=col>SwissProt</th><th scope=col>OMIM</th><th scope=col>RefSeq Protein ID</th><th scope=col>RefSeq Transcript ID</th><th scope=col>SPOT_ID</th></tr></thead>\n",
       "<tbody>\n",
       "\t<tr><th scope=row>11715100_at</th><td>11715100_at                                                                                     </td><td>Human Genome PrimeView Array                                                                    </td><td>Homo sapiens                                                                                    </td><td>40780                                                                                           </td><td>Consensus sequence                                                                              </td><td>Affymetrix Proprietary Database                                                                 </td><td>g21264570                                                                                       </td><td>g21264570 /TID=g21264570 /CNT=1 /FEA=FLmRNA /TIER=FL /STK=0 /DEF=g21264570 /REP_ORG=Homo sapiens</td><td>                                                                                                </td><td>21264570                                                                                        </td><td>⋯                                                                                               </td><td>HIST1H3G                                                                                        </td><td>chr6p21.3                                                                                       </td><td>full length                                                                                     </td><td>ENSG00000248541                                                                                 </td><td>8355                                                                                            </td><td>P68431                                                                                          </td><td>602815                                                                                          </td><td>NP_003525                                                                                       </td><td>NM_003534                                                                                       </td><td>                                                                                                </td></tr>\n",
       "\t<tr><th scope=row>11715101_s_at</th><td>11715101_s_at                                                                                   </td><td>Human Genome PrimeView Array                                                                    </td><td>Homo sapiens                                                                                    </td><td>40780                                                                                           </td><td>Consensus sequence                                                                              </td><td>Affymetrix Proprietary Database                                                                 </td><td>g21264570                                                                                       </td><td>g21264570 /TID=g21264570 /CNT=1 /FEA=FLmRNA /TIER=FL /STK=0 /DEF=g21264570 /REP_ORG=Homo sapiens</td><td>                                                                                                </td><td>21264570                                                                                        </td><td>⋯                                                                                               </td><td>HIST1H3G                                                                                        </td><td>chr6p21.3                                                                                       </td><td>full length                                                                                     </td><td>ENSG00000248541                                                                                 </td><td>8355                                                                                            </td><td>P68431                                                                                          </td><td>602815                                                                                          </td><td>NP_003525                                                                                       </td><td>NM_003534                                                                                       </td><td>                                                                                                </td></tr>\n",
       "\t<tr><th scope=row>11715102_x_at</th><td>11715102_x_at                                                                                   </td><td>Human Genome PrimeView Array                                                                    </td><td>Homo sapiens                                                                                    </td><td>40780                                                                                           </td><td>Consensus sequence                                                                              </td><td>Affymetrix Proprietary Database                                                                 </td><td>g21264570                                                                                       </td><td>g21264570 /TID=g21264570 /CNT=1 /FEA=FLmRNA /TIER=FL /STK=0 /DEF=g21264570 /REP_ORG=Homo sapiens</td><td>                                                                                                </td><td>21264570                                                                                        </td><td>⋯                                                                                               </td><td>HIST1H3G                                                                                        </td><td>chr6p21.3                                                                                       </td><td>full length                                                                                     </td><td>ENSG00000248541                                                                                 </td><td>8355                                                                                            </td><td>P68431                                                                                          </td><td>602815                                                                                          </td><td>NP_003525                                                                                       </td><td>NM_003534                                                                                       </td><td>                                                                                                </td></tr>\n",
       "\t<tr><th scope=row>11715103_x_at</th><td>11715103_x_at                                                                                   </td><td>Human Genome PrimeView Array                                                                    </td><td>Homo sapiens                                                                                    </td><td>40780                                                                                           </td><td>Consensus sequence                                                                              </td><td>Affymetrix Proprietary Database                                                                 </td><td>g22748780                                                                                       </td><td>g22748780 /TID=g22748780 /CNT=1 /FEA=FLmRNA /TIER=FL /STK=0 /DEF=g22748780 /REP_ORG=Homo sapiens</td><td>                                                                                                </td><td>22748780                                                                                        </td><td>⋯                                                                                               </td><td>TNFAIP8L1                                                                                       </td><td>chr19p13.3                                                                                      </td><td>full length                                                                                     </td><td>ENSG00000185361                                                                                 </td><td>126282                                                                                          </td><td>Q8WVP5                                                                                          </td><td>---                                                                                             </td><td>NP_001161414 /// NP_689575                                                                      </td><td>NM_001167942 /// NM_152362                                                                      </td><td>                                                                                                </td></tr>\n",
       "\t<tr><th scope=row>11715104_s_at</th><td>11715104_s_at                                                                                   </td><td>Human Genome PrimeView Array                                                                    </td><td>Homo sapiens                                                                                    </td><td>40780                                                                                           </td><td>Consensus sequence                                                                              </td><td>Affymetrix Proprietary Database                                                                 </td><td>g30039713                                                                                       </td><td>g30039713 /TID=g30039713 /CNT=1 /FEA=FLmRNA /TIER=FL /STK=0 /DEF=g30039713 /REP_ORG=Homo sapiens</td><td>                                                                                                </td><td>30039713                                                                                        </td><td>⋯                                                                                               </td><td>OTOP2                                                                                           </td><td>chr17q25.1                                                                                      </td><td>full length                                                                                     </td><td>ENSG00000183034                                                                                 </td><td>92736                                                                                           </td><td>Q7RTS6                                                                                          </td><td>607827                                                                                          </td><td>NP_835454                                                                                       </td><td>NM_178160                                                                                       </td><td>                                                                                                </td></tr>\n",
       "\t<tr><th scope=row>11715105_at</th><td>11715105_at                                                                                     </td><td>Human Genome PrimeView Array                                                                    </td><td>Homo sapiens                                                                                    </td><td>40780                                                                                           </td><td>Consensus sequence                                                                              </td><td>Affymetrix Proprietary Database                                                                 </td><td>g45580703                                                                                       </td><td>g45580703 /TID=g45580703 /CNT=1 /FEA=FLmRNA /TIER=FL /STK=0 /DEF=g45580703 /REP_ORG=Homo sapiens</td><td>                                                                                                </td><td>45580703                                                                                        </td><td>⋯                                                                                               </td><td>C17orf78                                                                                        </td><td>chr17q12                                                                                        </td><td>full length                                                                                     </td><td>ENSG00000167230                                                                                 </td><td>284099                                                                                          </td><td>Q8N4C9                                                                                          </td><td>---                                                                                             </td><td>NP_775896                                                                                       </td><td>NM_173625                                                                                       </td><td>                                                                                                </td></tr>\n",
       "</tbody>\n",
       "</table>\n"
      ],
      "text/latex": [
       "\\begin{tabular}{r|llllllllllllllllllllllll}\n",
       "  & ID & GeneChip Array & Species Scientific Name & Annotation Date & Sequence Type & Sequence Source & Transcript ID(Array Design) & Target Description & GB\\_ACC & GI & ⋯ & Gene Symbol & Chromosomal Location & Unigene Cluster Type & Ensembl & Entrez Gene & SwissProt & OMIM & RefSeq Protein ID & RefSeq Transcript ID & SPOT\\_ID\\\\\n",
       "\\hline\n",
       "\t11715100\\_at & 11715100\\_at                                                                                      & Human Genome PrimeView Array                                                                       & Homo sapiens                                                                                       & 40780                                                                                              & Consensus sequence                                                                                 & Affymetrix Proprietary Database                                                                    & g21264570                                                                                          & g21264570 /TID=g21264570 /CNT=1 /FEA=FLmRNA /TIER=FL /STK=0 /DEF=g21264570 /REP\\_ORG=Homo sapiens &                                                                                                    & 21264570                                                                                           & ⋯                                                                                                  & HIST1H3G                                                                                           & chr6p21.3                                                                                          & full length                                                                                        & ENSG00000248541                                                                                    & 8355                                                                                               & P68431                                                                                             & 602815                                                                                             & NP\\_003525                                                                                        & NM\\_003534                                                                                        &                                                                                                   \\\\\n",
       "\t11715101\\_s\\_at & 11715101\\_s\\_at                                                                                  & Human Genome PrimeView Array                                                                       & Homo sapiens                                                                                       & 40780                                                                                              & Consensus sequence                                                                                 & Affymetrix Proprietary Database                                                                    & g21264570                                                                                          & g21264570 /TID=g21264570 /CNT=1 /FEA=FLmRNA /TIER=FL /STK=0 /DEF=g21264570 /REP\\_ORG=Homo sapiens &                                                                                                    & 21264570                                                                                           & ⋯                                                                                                  & HIST1H3G                                                                                           & chr6p21.3                                                                                          & full length                                                                                        & ENSG00000248541                                                                                    & 8355                                                                                               & P68431                                                                                             & 602815                                                                                             & NP\\_003525                                                                                        & NM\\_003534                                                                                        &                                                                                                   \\\\\n",
       "\t11715102\\_x\\_at & 11715102\\_x\\_at                                                                                  & Human Genome PrimeView Array                                                                       & Homo sapiens                                                                                       & 40780                                                                                              & Consensus sequence                                                                                 & Affymetrix Proprietary Database                                                                    & g21264570                                                                                          & g21264570 /TID=g21264570 /CNT=1 /FEA=FLmRNA /TIER=FL /STK=0 /DEF=g21264570 /REP\\_ORG=Homo sapiens &                                                                                                    & 21264570                                                                                           & ⋯                                                                                                  & HIST1H3G                                                                                           & chr6p21.3                                                                                          & full length                                                                                        & ENSG00000248541                                                                                    & 8355                                                                                               & P68431                                                                                             & 602815                                                                                             & NP\\_003525                                                                                        & NM\\_003534                                                                                        &                                                                                                   \\\\\n",
       "\t11715103\\_x\\_at & 11715103\\_x\\_at                                                                                  & Human Genome PrimeView Array                                                                       & Homo sapiens                                                                                       & 40780                                                                                              & Consensus sequence                                                                                 & Affymetrix Proprietary Database                                                                    & g22748780                                                                                          & g22748780 /TID=g22748780 /CNT=1 /FEA=FLmRNA /TIER=FL /STK=0 /DEF=g22748780 /REP\\_ORG=Homo sapiens &                                                                                                    & 22748780                                                                                           & ⋯                                                                                                  & TNFAIP8L1                                                                                          & chr19p13.3                                                                                         & full length                                                                                        & ENSG00000185361                                                                                    & 126282                                                                                             & Q8WVP5                                                                                             & ---                                                                                                & NP\\_001161414 /// NP\\_689575                                                                     & NM\\_001167942 /// NM\\_152362                                                                     &                                                                                                   \\\\\n",
       "\t11715104\\_s\\_at & 11715104\\_s\\_at                                                                                  & Human Genome PrimeView Array                                                                       & Homo sapiens                                                                                       & 40780                                                                                              & Consensus sequence                                                                                 & Affymetrix Proprietary Database                                                                    & g30039713                                                                                          & g30039713 /TID=g30039713 /CNT=1 /FEA=FLmRNA /TIER=FL /STK=0 /DEF=g30039713 /REP\\_ORG=Homo sapiens &                                                                                                    & 30039713                                                                                           & ⋯                                                                                                  & OTOP2                                                                                              & chr17q25.1                                                                                         & full length                                                                                        & ENSG00000183034                                                                                    & 92736                                                                                              & Q7RTS6                                                                                             & 607827                                                                                             & NP\\_835454                                                                                        & NM\\_178160                                                                                        &                                                                                                   \\\\\n",
       "\t11715105\\_at & 11715105\\_at                                                                                      & Human Genome PrimeView Array                                                                       & Homo sapiens                                                                                       & 40780                                                                                              & Consensus sequence                                                                                 & Affymetrix Proprietary Database                                                                    & g45580703                                                                                          & g45580703 /TID=g45580703 /CNT=1 /FEA=FLmRNA /TIER=FL /STK=0 /DEF=g45580703 /REP\\_ORG=Homo sapiens &                                                                                                    & 45580703                                                                                           & ⋯                                                                                                  & C17orf78                                                                                           & chr17q12                                                                                           & full length                                                                                        & ENSG00000167230                                                                                    & 284099                                                                                             & Q8N4C9                                                                                             & ---                                                                                                & NP\\_775896                                                                                        & NM\\_173625                                                                                        &                                                                                                   \\\\\n",
       "\\end{tabular}\n"
      ],
      "text/markdown": [
       "\n",
       "| <!--/--> | ID | GeneChip Array | Species Scientific Name | Annotation Date | Sequence Type | Sequence Source | Transcript ID(Array Design) | Target Description | GB_ACC | GI | ⋯ | Gene Symbol | Chromosomal Location | Unigene Cluster Type | Ensembl | Entrez Gene | SwissProt | OMIM | RefSeq Protein ID | RefSeq Transcript ID | SPOT_ID | \n",
       "|---|---|---|---|---|---|\n",
       "| 11715100_at | 11715100_at                                                                                      | Human Genome PrimeView Array                                                                     | Homo sapiens                                                                                     | 40780                                                                                            | Consensus sequence                                                                               | Affymetrix Proprietary Database                                                                  | g21264570                                                                                        | g21264570 /TID=g21264570 /CNT=1 /FEA=FLmRNA /TIER=FL /STK=0 /DEF=g21264570 /REP_ORG=Homo sapiens |                                                                                                  | 21264570                                                                                         | ⋯                                                                                                | HIST1H3G                                                                                         | chr6p21.3                                                                                        | full length                                                                                      | ENSG00000248541                                                                                  | 8355                                                                                             | P68431                                                                                           | 602815                                                                                           | NP_003525                                                                                        | NM_003534                                                                                        |                                                                                                  | \n",
       "| 11715101_s_at | 11715101_s_at                                                                                    | Human Genome PrimeView Array                                                                     | Homo sapiens                                                                                     | 40780                                                                                            | Consensus sequence                                                                               | Affymetrix Proprietary Database                                                                  | g21264570                                                                                        | g21264570 /TID=g21264570 /CNT=1 /FEA=FLmRNA /TIER=FL /STK=0 /DEF=g21264570 /REP_ORG=Homo sapiens |                                                                                                  | 21264570                                                                                         | ⋯                                                                                                | HIST1H3G                                                                                         | chr6p21.3                                                                                        | full length                                                                                      | ENSG00000248541                                                                                  | 8355                                                                                             | P68431                                                                                           | 602815                                                                                           | NP_003525                                                                                        | NM_003534                                                                                        |                                                                                                  | \n",
       "| 11715102_x_at | 11715102_x_at                                                                                    | Human Genome PrimeView Array                                                                     | Homo sapiens                                                                                     | 40780                                                                                            | Consensus sequence                                                                               | Affymetrix Proprietary Database                                                                  | g21264570                                                                                        | g21264570 /TID=g21264570 /CNT=1 /FEA=FLmRNA /TIER=FL /STK=0 /DEF=g21264570 /REP_ORG=Homo sapiens |                                                                                                  | 21264570                                                                                         | ⋯                                                                                                | HIST1H3G                                                                                         | chr6p21.3                                                                                        | full length                                                                                      | ENSG00000248541                                                                                  | 8355                                                                                             | P68431                                                                                           | 602815                                                                                           | NP_003525                                                                                        | NM_003534                                                                                        |                                                                                                  | \n",
       "| 11715103_x_at | 11715103_x_at                                                                                    | Human Genome PrimeView Array                                                                     | Homo sapiens                                                                                     | 40780                                                                                            | Consensus sequence                                                                               | Affymetrix Proprietary Database                                                                  | g22748780                                                                                        | g22748780 /TID=g22748780 /CNT=1 /FEA=FLmRNA /TIER=FL /STK=0 /DEF=g22748780 /REP_ORG=Homo sapiens |                                                                                                  | 22748780                                                                                         | ⋯                                                                                                | TNFAIP8L1                                                                                        | chr19p13.3                                                                                       | full length                                                                                      | ENSG00000185361                                                                                  | 126282                                                                                           | Q8WVP5                                                                                           | ---                                                                                              | NP_001161414 /// NP_689575                                                                       | NM_001167942 /// NM_152362                                                                       |                                                                                                  | \n",
       "| 11715104_s_at | 11715104_s_at                                                                                    | Human Genome PrimeView Array                                                                     | Homo sapiens                                                                                     | 40780                                                                                            | Consensus sequence                                                                               | Affymetrix Proprietary Database                                                                  | g30039713                                                                                        | g30039713 /TID=g30039713 /CNT=1 /FEA=FLmRNA /TIER=FL /STK=0 /DEF=g30039713 /REP_ORG=Homo sapiens |                                                                                                  | 30039713                                                                                         | ⋯                                                                                                | OTOP2                                                                                            | chr17q25.1                                                                                       | full length                                                                                      | ENSG00000183034                                                                                  | 92736                                                                                            | Q7RTS6                                                                                           | 607827                                                                                           | NP_835454                                                                                        | NM_178160                                                                                        |                                                                                                  | \n",
       "| 11715105_at | 11715105_at                                                                                      | Human Genome PrimeView Array                                                                     | Homo sapiens                                                                                     | 40780                                                                                            | Consensus sequence                                                                               | Affymetrix Proprietary Database                                                                  | g45580703                                                                                        | g45580703 /TID=g45580703 /CNT=1 /FEA=FLmRNA /TIER=FL /STK=0 /DEF=g45580703 /REP_ORG=Homo sapiens |                                                                                                  | 45580703                                                                                         | ⋯                                                                                                | C17orf78                                                                                         | chr17q12                                                                                         | full length                                                                                      | ENSG00000167230                                                                                  | 284099                                                                                           | Q8N4C9                                                                                           | ---                                                                                              | NP_775896                                                                                        | NM_173625                                                                                        |                                                                                                  | \n",
       "\n",
       "\n"
      ],
      "text/plain": [
       "              ID            GeneChip Array              \n",
       "11715100_at   11715100_at   Human Genome PrimeView Array\n",
       "11715101_s_at 11715101_s_at Human Genome PrimeView Array\n",
       "11715102_x_at 11715102_x_at Human Genome PrimeView Array\n",
       "11715103_x_at 11715103_x_at Human Genome PrimeView Array\n",
       "11715104_s_at 11715104_s_at Human Genome PrimeView Array\n",
       "11715105_at   11715105_at   Human Genome PrimeView Array\n",
       "              Species Scientific Name Annotation Date Sequence Type     \n",
       "11715100_at   Homo sapiens            40780           Consensus sequence\n",
       "11715101_s_at Homo sapiens            40780           Consensus sequence\n",
       "11715102_x_at Homo sapiens            40780           Consensus sequence\n",
       "11715103_x_at Homo sapiens            40780           Consensus sequence\n",
       "11715104_s_at Homo sapiens            40780           Consensus sequence\n",
       "11715105_at   Homo sapiens            40780           Consensus sequence\n",
       "              Sequence Source                 Transcript ID(Array Design)\n",
       "11715100_at   Affymetrix Proprietary Database g21264570                  \n",
       "11715101_s_at Affymetrix Proprietary Database g21264570                  \n",
       "11715102_x_at Affymetrix Proprietary Database g21264570                  \n",
       "11715103_x_at Affymetrix Proprietary Database g22748780                  \n",
       "11715104_s_at Affymetrix Proprietary Database g30039713                  \n",
       "11715105_at   Affymetrix Proprietary Database g45580703                  \n",
       "              Target Description                                                                              \n",
       "11715100_at   g21264570 /TID=g21264570 /CNT=1 /FEA=FLmRNA /TIER=FL /STK=0 /DEF=g21264570 /REP_ORG=Homo sapiens\n",
       "11715101_s_at g21264570 /TID=g21264570 /CNT=1 /FEA=FLmRNA /TIER=FL /STK=0 /DEF=g21264570 /REP_ORG=Homo sapiens\n",
       "11715102_x_at g21264570 /TID=g21264570 /CNT=1 /FEA=FLmRNA /TIER=FL /STK=0 /DEF=g21264570 /REP_ORG=Homo sapiens\n",
       "11715103_x_at g22748780 /TID=g22748780 /CNT=1 /FEA=FLmRNA /TIER=FL /STK=0 /DEF=g22748780 /REP_ORG=Homo sapiens\n",
       "11715104_s_at g30039713 /TID=g30039713 /CNT=1 /FEA=FLmRNA /TIER=FL /STK=0 /DEF=g30039713 /REP_ORG=Homo sapiens\n",
       "11715105_at   g45580703 /TID=g45580703 /CNT=1 /FEA=FLmRNA /TIER=FL /STK=0 /DEF=g45580703 /REP_ORG=Homo sapiens\n",
       "              GB_ACC GI       ⋯ Gene Symbol Chromosomal Location\n",
       "11715100_at          21264570 ⋯ HIST1H3G    chr6p21.3           \n",
       "11715101_s_at        21264570 ⋯ HIST1H3G    chr6p21.3           \n",
       "11715102_x_at        21264570 ⋯ HIST1H3G    chr6p21.3           \n",
       "11715103_x_at        22748780 ⋯ TNFAIP8L1   chr19p13.3          \n",
       "11715104_s_at        30039713 ⋯ OTOP2       chr17q25.1          \n",
       "11715105_at          45580703 ⋯ C17orf78    chr17q12            \n",
       "              Unigene Cluster Type Ensembl         Entrez Gene SwissProt OMIM  \n",
       "11715100_at   full length          ENSG00000248541 8355        P68431    602815\n",
       "11715101_s_at full length          ENSG00000248541 8355        P68431    602815\n",
       "11715102_x_at full length          ENSG00000248541 8355        P68431    602815\n",
       "11715103_x_at full length          ENSG00000185361 126282      Q8WVP5    ---   \n",
       "11715104_s_at full length          ENSG00000183034 92736       Q7RTS6    607827\n",
       "11715105_at   full length          ENSG00000167230 284099      Q8N4C9    ---   \n",
       "              RefSeq Protein ID          RefSeq Transcript ID       SPOT_ID\n",
       "11715100_at   NP_003525                  NM_003534                         \n",
       "11715101_s_at NP_003525                  NM_003534                         \n",
       "11715102_x_at NP_003525                  NM_003534                         \n",
       "11715103_x_at NP_001161414 /// NP_689575 NM_001167942 /// NM_152362        \n",
       "11715104_s_at NP_835454                  NM_178160                         \n",
       "11715105_at   NP_775896                  NM_173625                         "
      ]
     },
     "metadata": {},
     "output_type": "display_data"
    }
   ],
   "source": [
    "head(fData(glioMA))"
   ]
  },
  {
   "cell_type": "code",
   "execution_count": 30,
   "metadata": {},
   "outputs": [
    {
     "data": {
      "text/html": [
       "<table>\n",
       "<thead><tr><th></th><th scope=col>title</th><th scope=col>geo_accession</th><th scope=col>status</th><th scope=col>submission_date</th><th scope=col>last_update_date</th><th scope=col>type</th><th scope=col>channel_count</th><th scope=col>source_name_ch1</th><th scope=col>organism_ch1</th><th scope=col>characteristics_ch1</th><th scope=col>⋯</th><th scope=col>contact_institute</th><th scope=col>contact_address</th><th scope=col>contact_city</th><th scope=col>contact_state</th><th scope=col>contact_zip/postal_code</th><th scope=col>contact_country</th><th scope=col>supplementary_file</th><th scope=col>data_row_count</th><th scope=col>cell type:ch1</th><th scope=col>treated with:ch1</th></tr></thead>\n",
       "<tbody>\n",
       "\t<tr><th scope=row>GSM2072905</th><td>NHA DMSO 1                                                                                                               </td><td>GSM2072905                                                                                                               </td><td>Public on Sep 08 2017                                                                                                    </td><td>Feb 26 2016                                                                                                              </td><td>Sep 08 2017                                                                                                              </td><td>RNA                                                                                                                      </td><td>1                                                                                                                        </td><td>Normal human astrocytes_DMSO control                                                                                     </td><td>Homo sapiens                                                                                                             </td><td>cell type: Normal human astrocytes                                                                                       </td><td>⋯                                                                                                                        </td><td>David Geffen School of Medicine at UCLA                                                                                  </td><td>9500 Gilman Drive                                                                                                        </td><td>La Jolla                                                                                                                 </td><td>CA                                                                                                                       </td><td>92093-0753                                                                                                               </td><td>USA                                                                                                                      </td><td>ftp://ftp.ncbi.nlm.nih.gov/geo/samples/GSM2072nnn/GSM2072905/suppl/GSM2072905_14692.Mischel.NHA1.sh_PrimeView_.CEL.gz    </td><td>49395                                                                                                                    </td><td> Normal human astrocytes                                                                                                 </td><td> DMSO control                                                                                                            </td></tr>\n",
       "\t<tr><th scope=row>GSM2072906</th><td>NHA DMSO 2                                                                                                               </td><td>GSM2072906                                                                                                               </td><td>Public on Sep 08 2017                                                                                                    </td><td>Feb 26 2016                                                                                                              </td><td>Sep 08 2017                                                                                                              </td><td>RNA                                                                                                                      </td><td>1                                                                                                                        </td><td>Normal human astrocytes_DMSO control                                                                                     </td><td>Homo sapiens                                                                                                             </td><td>cell type: Normal human astrocytes                                                                                       </td><td>⋯                                                                                                                        </td><td>David Geffen School of Medicine at UCLA                                                                                  </td><td>9500 Gilman Drive                                                                                                        </td><td>La Jolla                                                                                                                 </td><td>CA                                                                                                                       </td><td>92093-0753                                                                                                               </td><td>USA                                                                                                                      </td><td>ftp://ftp.ncbi.nlm.nih.gov/geo/samples/GSM2072nnn/GSM2072906/suppl/GSM2072906_14693.Mischel.NHA2.sh_PrimeView_.CEL.gz    </td><td>49395                                                                                                                    </td><td> Normal human astrocytes                                                                                                 </td><td> DMSO control                                                                                                            </td></tr>\n",
       "\t<tr><th scope=row>GSM2072907</th><td>NHA DMSO 3                                                                                                               </td><td>GSM2072907                                                                                                               </td><td>Public on Sep 08 2017                                                                                                    </td><td>Feb 26 2016                                                                                                              </td><td>Sep 08 2017                                                                                                              </td><td>RNA                                                                                                                      </td><td>1                                                                                                                        </td><td>Normal human astrocytes_DMSO control                                                                                     </td><td>Homo sapiens                                                                                                             </td><td>cell type: Normal human astrocytes                                                                                       </td><td>⋯                                                                                                                        </td><td>David Geffen School of Medicine at UCLA                                                                                  </td><td>9500 Gilman Drive                                                                                                        </td><td>La Jolla                                                                                                                 </td><td>CA                                                                                                                       </td><td>92093-0753                                                                                                               </td><td>USA                                                                                                                      </td><td>ftp://ftp.ncbi.nlm.nih.gov/geo/samples/GSM2072nnn/GSM2072907/suppl/GSM2072907_14694.Mischel.NHA3.sh_PrimeView_.CEL.gz    </td><td>49395                                                                                                                    </td><td> Normal human astrocytes                                                                                                 </td><td> DMSO control                                                                                                            </td></tr>\n",
       "\t<tr><th scope=row>GSM2072908</th><td>U87vIII DMSO 1                                                                                                           </td><td>GSM2072908                                                                                                               </td><td>Public on Sep 08 2017                                                                                                    </td><td>Feb 26 2016                                                                                                              </td><td>Sep 08 2017                                                                                                              </td><td>RNA                                                                                                                      </td><td>1                                                                                                                        </td><td>U87EGFRvIII glioblastoma cells_DMSO control                                                                              </td><td>Homo sapiens                                                                                                             </td><td>cell type: U87EGFRvIII glioblastoma cells                                                                                </td><td>⋯                                                                                                                        </td><td>David Geffen School of Medicine at UCLA                                                                                  </td><td>9500 Gilman Drive                                                                                                        </td><td>La Jolla                                                                                                                 </td><td>CA                                                                                                                       </td><td>92093-0753                                                                                                               </td><td>USA                                                                                                                      </td><td>ftp://ftp.ncbi.nlm.nih.gov/geo/samples/GSM2072nnn/GSM2072908/suppl/GSM2072908_14695.Mischel.U87vIII1.sh_PrimeView_.CEL.gz</td><td>49395                                                                                                                    </td><td> U87EGFRvIII glioblastoma cells                                                                                          </td><td> DMSO control                                                                                                            </td></tr>\n",
       "\t<tr><th scope=row>GSM2072909</th><td>U87vIII DMSO 2                                                                                                           </td><td>GSM2072909                                                                                                               </td><td>Public on Sep 08 2017                                                                                                    </td><td>Feb 26 2016                                                                                                              </td><td>Sep 08 2017                                                                                                              </td><td>RNA                                                                                                                      </td><td>1                                                                                                                        </td><td>U87EGFRvIII glioblastoma cells_DMSO control                                                                              </td><td>Homo sapiens                                                                                                             </td><td>cell type: U87EGFRvIII glioblastoma cells                                                                                </td><td>⋯                                                                                                                        </td><td>David Geffen School of Medicine at UCLA                                                                                  </td><td>9500 Gilman Drive                                                                                                        </td><td>La Jolla                                                                                                                 </td><td>CA                                                                                                                       </td><td>92093-0753                                                                                                               </td><td>USA                                                                                                                      </td><td>ftp://ftp.ncbi.nlm.nih.gov/geo/samples/GSM2072nnn/GSM2072909/suppl/GSM2072909_14696.Mischel.U87vIII2.sh_PrimeView_.CEL.gz</td><td>49395                                                                                                                    </td><td> U87EGFRvIII glioblastoma cells                                                                                          </td><td> DMSO control                                                                                                            </td></tr>\n",
       "\t<tr><th scope=row>GSM2072910</th><td>U87vIII DMSO 3                                                                                                           </td><td>GSM2072910                                                                                                               </td><td>Public on Sep 08 2017                                                                                                    </td><td>Feb 26 2016                                                                                                              </td><td>Sep 08 2017                                                                                                              </td><td>RNA                                                                                                                      </td><td>1                                                                                                                        </td><td>U87EGFRvIII glioblastoma cells_DMSO control                                                                              </td><td>Homo sapiens                                                                                                             </td><td>cell type: U87EGFRvIII glioblastoma cells                                                                                </td><td>⋯                                                                                                                        </td><td>David Geffen School of Medicine at UCLA                                                                                  </td><td>9500 Gilman Drive                                                                                                        </td><td>La Jolla                                                                                                                 </td><td>CA                                                                                                                       </td><td>92093-0753                                                                                                               </td><td>USA                                                                                                                      </td><td>ftp://ftp.ncbi.nlm.nih.gov/geo/samples/GSM2072nnn/GSM2072910/suppl/GSM2072910_14697.Mischel.U87vIII3.sh_PrimeView_.CEL.gz</td><td>49395                                                                                                                    </td><td> U87EGFRvIII glioblastoma cells                                                                                          </td><td> DMSO control                                                                                                            </td></tr>\n",
       "</tbody>\n",
       "</table>\n"
      ],
      "text/latex": [
       "\\begin{tabular}{r|lllllllllllllllllllllllllllllllllll}\n",
       "  & title & geo\\_accession & status & submission\\_date & last\\_update\\_date & type & channel\\_count & source\\_name\\_ch1 & organism\\_ch1 & characteristics\\_ch1 & ⋯ & contact\\_institute & contact\\_address & contact\\_city & contact\\_state & contact\\_zip/postal\\_code & contact\\_country & supplementary\\_file & data\\_row\\_count & cell type:ch1 & treated with:ch1\\\\\n",
       "\\hline\n",
       "\tGSM2072905 & NHA DMSO 1                                                                                                                      & GSM2072905                                                                                                                      & Public on Sep 08 2017                                                                                                           & Feb 26 2016                                                                                                                     & Sep 08 2017                                                                                                                     & RNA                                                                                                                             & 1                                                                                                                               & Normal human astrocytes\\_DMSO control                                                                                          & Homo sapiens                                                                                                                    & cell type: Normal human astrocytes                                                                                              & ⋯                                                                                                                               & David Geffen School of Medicine at UCLA                                                                                         & 9500 Gilman Drive                                                                                                               & La Jolla                                                                                                                        & CA                                                                                                                              & 92093-0753                                                                                                                      & USA                                                                                                                             & ftp://ftp.ncbi.nlm.nih.gov/geo/samples/GSM2072nnn/GSM2072905/suppl/GSM2072905\\_14692.Mischel.NHA1.sh\\_PrimeView\\_.CEL.gz     & 49395                                                                                                                           &  Normal human astrocytes                                                                                                        &  DMSO control                                                                                                                  \\\\\n",
       "\tGSM2072906 & NHA DMSO 2                                                                                                                      & GSM2072906                                                                                                                      & Public on Sep 08 2017                                                                                                           & Feb 26 2016                                                                                                                     & Sep 08 2017                                                                                                                     & RNA                                                                                                                             & 1                                                                                                                               & Normal human astrocytes\\_DMSO control                                                                                          & Homo sapiens                                                                                                                    & cell type: Normal human astrocytes                                                                                              & ⋯                                                                                                                               & David Geffen School of Medicine at UCLA                                                                                         & 9500 Gilman Drive                                                                                                               & La Jolla                                                                                                                        & CA                                                                                                                              & 92093-0753                                                                                                                      & USA                                                                                                                             & ftp://ftp.ncbi.nlm.nih.gov/geo/samples/GSM2072nnn/GSM2072906/suppl/GSM2072906\\_14693.Mischel.NHA2.sh\\_PrimeView\\_.CEL.gz     & 49395                                                                                                                           &  Normal human astrocytes                                                                                                        &  DMSO control                                                                                                                  \\\\\n",
       "\tGSM2072907 & NHA DMSO 3                                                                                                                      & GSM2072907                                                                                                                      & Public on Sep 08 2017                                                                                                           & Feb 26 2016                                                                                                                     & Sep 08 2017                                                                                                                     & RNA                                                                                                                             & 1                                                                                                                               & Normal human astrocytes\\_DMSO control                                                                                          & Homo sapiens                                                                                                                    & cell type: Normal human astrocytes                                                                                              & ⋯                                                                                                                               & David Geffen School of Medicine at UCLA                                                                                         & 9500 Gilman Drive                                                                                                               & La Jolla                                                                                                                        & CA                                                                                                                              & 92093-0753                                                                                                                      & USA                                                                                                                             & ftp://ftp.ncbi.nlm.nih.gov/geo/samples/GSM2072nnn/GSM2072907/suppl/GSM2072907\\_14694.Mischel.NHA3.sh\\_PrimeView\\_.CEL.gz     & 49395                                                                                                                           &  Normal human astrocytes                                                                                                        &  DMSO control                                                                                                                  \\\\\n",
       "\tGSM2072908 & U87vIII DMSO 1                                                                                                                  & GSM2072908                                                                                                                      & Public on Sep 08 2017                                                                                                           & Feb 26 2016                                                                                                                     & Sep 08 2017                                                                                                                     & RNA                                                                                                                             & 1                                                                                                                               & U87EGFRvIII glioblastoma cells\\_DMSO control                                                                                   & Homo sapiens                                                                                                                    & cell type: U87EGFRvIII glioblastoma cells                                                                                       & ⋯                                                                                                                               & David Geffen School of Medicine at UCLA                                                                                         & 9500 Gilman Drive                                                                                                               & La Jolla                                                                                                                        & CA                                                                                                                              & 92093-0753                                                                                                                      & USA                                                                                                                             & ftp://ftp.ncbi.nlm.nih.gov/geo/samples/GSM2072nnn/GSM2072908/suppl/GSM2072908\\_14695.Mischel.U87vIII1.sh\\_PrimeView\\_.CEL.gz & 49395                                                                                                                           &  U87EGFRvIII glioblastoma cells                                                                                                 &  DMSO control                                                                                                                  \\\\\n",
       "\tGSM2072909 & U87vIII DMSO 2                                                                                                                  & GSM2072909                                                                                                                      & Public on Sep 08 2017                                                                                                           & Feb 26 2016                                                                                                                     & Sep 08 2017                                                                                                                     & RNA                                                                                                                             & 1                                                                                                                               & U87EGFRvIII glioblastoma cells\\_DMSO control                                                                                   & Homo sapiens                                                                                                                    & cell type: U87EGFRvIII glioblastoma cells                                                                                       & ⋯                                                                                                                               & David Geffen School of Medicine at UCLA                                                                                         & 9500 Gilman Drive                                                                                                               & La Jolla                                                                                                                        & CA                                                                                                                              & 92093-0753                                                                                                                      & USA                                                                                                                             & ftp://ftp.ncbi.nlm.nih.gov/geo/samples/GSM2072nnn/GSM2072909/suppl/GSM2072909\\_14696.Mischel.U87vIII2.sh\\_PrimeView\\_.CEL.gz & 49395                                                                                                                           &  U87EGFRvIII glioblastoma cells                                                                                                 &  DMSO control                                                                                                                  \\\\\n",
       "\tGSM2072910 & U87vIII DMSO 3                                                                                                                  & GSM2072910                                                                                                                      & Public on Sep 08 2017                                                                                                           & Feb 26 2016                                                                                                                     & Sep 08 2017                                                                                                                     & RNA                                                                                                                             & 1                                                                                                                               & U87EGFRvIII glioblastoma cells\\_DMSO control                                                                                   & Homo sapiens                                                                                                                    & cell type: U87EGFRvIII glioblastoma cells                                                                                       & ⋯                                                                                                                               & David Geffen School of Medicine at UCLA                                                                                         & 9500 Gilman Drive                                                                                                               & La Jolla                                                                                                                        & CA                                                                                                                              & 92093-0753                                                                                                                      & USA                                                                                                                             & ftp://ftp.ncbi.nlm.nih.gov/geo/samples/GSM2072nnn/GSM2072910/suppl/GSM2072910\\_14697.Mischel.U87vIII3.sh\\_PrimeView\\_.CEL.gz & 49395                                                                                                                           &  U87EGFRvIII glioblastoma cells                                                                                                 &  DMSO control                                                                                                                  \\\\\n",
       "\\end{tabular}\n"
      ],
      "text/markdown": [
       "\n",
       "| <!--/--> | title | geo_accession | status | submission_date | last_update_date | type | channel_count | source_name_ch1 | organism_ch1 | characteristics_ch1 | ⋯ | contact_institute | contact_address | contact_city | contact_state | contact_zip/postal_code | contact_country | supplementary_file | data_row_count | cell type:ch1 | treated with:ch1 | \n",
       "|---|---|---|---|---|---|\n",
       "| GSM2072905 | NHA DMSO 1                                                                                                                | GSM2072905                                                                                                                | Public on Sep 08 2017                                                                                                     | Feb 26 2016                                                                                                               | Sep 08 2017                                                                                                               | RNA                                                                                                                       | 1                                                                                                                         | Normal human astrocytes_DMSO control                                                                                      | Homo sapiens                                                                                                              | cell type: Normal human astrocytes                                                                                        | ⋯                                                                                                                         | David Geffen School of Medicine at UCLA                                                                                   | 9500 Gilman Drive                                                                                                         | La Jolla                                                                                                                  | CA                                                                                                                        | 92093-0753                                                                                                                | USA                                                                                                                       | ftp://ftp.ncbi.nlm.nih.gov/geo/samples/GSM2072nnn/GSM2072905/suppl/GSM2072905_14692.Mischel.NHA1.sh_PrimeView_.CEL.gz     | 49395                                                                                                                     |  Normal human astrocytes                                                                                                  |  DMSO control                                                                                                             | \n",
       "| GSM2072906 | NHA DMSO 2                                                                                                                | GSM2072906                                                                                                                | Public on Sep 08 2017                                                                                                     | Feb 26 2016                                                                                                               | Sep 08 2017                                                                                                               | RNA                                                                                                                       | 1                                                                                                                         | Normal human astrocytes_DMSO control                                                                                      | Homo sapiens                                                                                                              | cell type: Normal human astrocytes                                                                                        | ⋯                                                                                                                         | David Geffen School of Medicine at UCLA                                                                                   | 9500 Gilman Drive                                                                                                         | La Jolla                                                                                                                  | CA                                                                                                                        | 92093-0753                                                                                                                | USA                                                                                                                       | ftp://ftp.ncbi.nlm.nih.gov/geo/samples/GSM2072nnn/GSM2072906/suppl/GSM2072906_14693.Mischel.NHA2.sh_PrimeView_.CEL.gz     | 49395                                                                                                                     |  Normal human astrocytes                                                                                                  |  DMSO control                                                                                                             | \n",
       "| GSM2072907 | NHA DMSO 3                                                                                                                | GSM2072907                                                                                                                | Public on Sep 08 2017                                                                                                     | Feb 26 2016                                                                                                               | Sep 08 2017                                                                                                               | RNA                                                                                                                       | 1                                                                                                                         | Normal human astrocytes_DMSO control                                                                                      | Homo sapiens                                                                                                              | cell type: Normal human astrocytes                                                                                        | ⋯                                                                                                                         | David Geffen School of Medicine at UCLA                                                                                   | 9500 Gilman Drive                                                                                                         | La Jolla                                                                                                                  | CA                                                                                                                        | 92093-0753                                                                                                                | USA                                                                                                                       | ftp://ftp.ncbi.nlm.nih.gov/geo/samples/GSM2072nnn/GSM2072907/suppl/GSM2072907_14694.Mischel.NHA3.sh_PrimeView_.CEL.gz     | 49395                                                                                                                     |  Normal human astrocytes                                                                                                  |  DMSO control                                                                                                             | \n",
       "| GSM2072908 | U87vIII DMSO 1                                                                                                            | GSM2072908                                                                                                                | Public on Sep 08 2017                                                                                                     | Feb 26 2016                                                                                                               | Sep 08 2017                                                                                                               | RNA                                                                                                                       | 1                                                                                                                         | U87EGFRvIII glioblastoma cells_DMSO control                                                                               | Homo sapiens                                                                                                              | cell type: U87EGFRvIII glioblastoma cells                                                                                 | ⋯                                                                                                                         | David Geffen School of Medicine at UCLA                                                                                   | 9500 Gilman Drive                                                                                                         | La Jolla                                                                                                                  | CA                                                                                                                        | 92093-0753                                                                                                                | USA                                                                                                                       | ftp://ftp.ncbi.nlm.nih.gov/geo/samples/GSM2072nnn/GSM2072908/suppl/GSM2072908_14695.Mischel.U87vIII1.sh_PrimeView_.CEL.gz | 49395                                                                                                                     |  U87EGFRvIII glioblastoma cells                                                                                           |  DMSO control                                                                                                             | \n",
       "| GSM2072909 | U87vIII DMSO 2                                                                                                            | GSM2072909                                                                                                                | Public on Sep 08 2017                                                                                                     | Feb 26 2016                                                                                                               | Sep 08 2017                                                                                                               | RNA                                                                                                                       | 1                                                                                                                         | U87EGFRvIII glioblastoma cells_DMSO control                                                                               | Homo sapiens                                                                                                              | cell type: U87EGFRvIII glioblastoma cells                                                                                 | ⋯                                                                                                                         | David Geffen School of Medicine at UCLA                                                                                   | 9500 Gilman Drive                                                                                                         | La Jolla                                                                                                                  | CA                                                                                                                        | 92093-0753                                                                                                                | USA                                                                                                                       | ftp://ftp.ncbi.nlm.nih.gov/geo/samples/GSM2072nnn/GSM2072909/suppl/GSM2072909_14696.Mischel.U87vIII2.sh_PrimeView_.CEL.gz | 49395                                                                                                                     |  U87EGFRvIII glioblastoma cells                                                                                           |  DMSO control                                                                                                             | \n",
       "| GSM2072910 | U87vIII DMSO 3                                                                                                            | GSM2072910                                                                                                                | Public on Sep 08 2017                                                                                                     | Feb 26 2016                                                                                                               | Sep 08 2017                                                                                                               | RNA                                                                                                                       | 1                                                                                                                         | U87EGFRvIII glioblastoma cells_DMSO control                                                                               | Homo sapiens                                                                                                              | cell type: U87EGFRvIII glioblastoma cells                                                                                 | ⋯                                                                                                                         | David Geffen School of Medicine at UCLA                                                                                   | 9500 Gilman Drive                                                                                                         | La Jolla                                                                                                                  | CA                                                                                                                        | 92093-0753                                                                                                                | USA                                                                                                                       | ftp://ftp.ncbi.nlm.nih.gov/geo/samples/GSM2072nnn/GSM2072910/suppl/GSM2072910_14697.Mischel.U87vIII3.sh_PrimeView_.CEL.gz | 49395                                                                                                                     |  U87EGFRvIII glioblastoma cells                                                                                           |  DMSO control                                                                                                             | \n",
       "\n",
       "\n"
      ],
      "text/plain": [
       "           title          geo_accession status                submission_date\n",
       "GSM2072905 NHA DMSO 1     GSM2072905    Public on Sep 08 2017 Feb 26 2016    \n",
       "GSM2072906 NHA DMSO 2     GSM2072906    Public on Sep 08 2017 Feb 26 2016    \n",
       "GSM2072907 NHA DMSO 3     GSM2072907    Public on Sep 08 2017 Feb 26 2016    \n",
       "GSM2072908 U87vIII DMSO 1 GSM2072908    Public on Sep 08 2017 Feb 26 2016    \n",
       "GSM2072909 U87vIII DMSO 2 GSM2072909    Public on Sep 08 2017 Feb 26 2016    \n",
       "GSM2072910 U87vIII DMSO 3 GSM2072910    Public on Sep 08 2017 Feb 26 2016    \n",
       "           last_update_date type channel_count\n",
       "GSM2072905 Sep 08 2017      RNA  1            \n",
       "GSM2072906 Sep 08 2017      RNA  1            \n",
       "GSM2072907 Sep 08 2017      RNA  1            \n",
       "GSM2072908 Sep 08 2017      RNA  1            \n",
       "GSM2072909 Sep 08 2017      RNA  1            \n",
       "GSM2072910 Sep 08 2017      RNA  1            \n",
       "           source_name_ch1                             organism_ch1\n",
       "GSM2072905 Normal human astrocytes_DMSO control        Homo sapiens\n",
       "GSM2072906 Normal human astrocytes_DMSO control        Homo sapiens\n",
       "GSM2072907 Normal human astrocytes_DMSO control        Homo sapiens\n",
       "GSM2072908 U87EGFRvIII glioblastoma cells_DMSO control Homo sapiens\n",
       "GSM2072909 U87EGFRvIII glioblastoma cells_DMSO control Homo sapiens\n",
       "GSM2072910 U87EGFRvIII glioblastoma cells_DMSO control Homo sapiens\n",
       "           characteristics_ch1                       ⋯\n",
       "GSM2072905 cell type: Normal human astrocytes        ⋯\n",
       "GSM2072906 cell type: Normal human astrocytes        ⋯\n",
       "GSM2072907 cell type: Normal human astrocytes        ⋯\n",
       "GSM2072908 cell type: U87EGFRvIII glioblastoma cells ⋯\n",
       "GSM2072909 cell type: U87EGFRvIII glioblastoma cells ⋯\n",
       "GSM2072910 cell type: U87EGFRvIII glioblastoma cells ⋯\n",
       "           contact_institute                       contact_address  \n",
       "GSM2072905 David Geffen School of Medicine at UCLA 9500 Gilman Drive\n",
       "GSM2072906 David Geffen School of Medicine at UCLA 9500 Gilman Drive\n",
       "GSM2072907 David Geffen School of Medicine at UCLA 9500 Gilman Drive\n",
       "GSM2072908 David Geffen School of Medicine at UCLA 9500 Gilman Drive\n",
       "GSM2072909 David Geffen School of Medicine at UCLA 9500 Gilman Drive\n",
       "GSM2072910 David Geffen School of Medicine at UCLA 9500 Gilman Drive\n",
       "           contact_city contact_state contact_zip/postal_code contact_country\n",
       "GSM2072905 La Jolla     CA            92093-0753              USA            \n",
       "GSM2072906 La Jolla     CA            92093-0753              USA            \n",
       "GSM2072907 La Jolla     CA            92093-0753              USA            \n",
       "GSM2072908 La Jolla     CA            92093-0753              USA            \n",
       "GSM2072909 La Jolla     CA            92093-0753              USA            \n",
       "GSM2072910 La Jolla     CA            92093-0753              USA            \n",
       "           supplementary_file                                                                                                       \n",
       "GSM2072905 ftp://ftp.ncbi.nlm.nih.gov/geo/samples/GSM2072nnn/GSM2072905/suppl/GSM2072905_14692.Mischel.NHA1.sh_PrimeView_.CEL.gz    \n",
       "GSM2072906 ftp://ftp.ncbi.nlm.nih.gov/geo/samples/GSM2072nnn/GSM2072906/suppl/GSM2072906_14693.Mischel.NHA2.sh_PrimeView_.CEL.gz    \n",
       "GSM2072907 ftp://ftp.ncbi.nlm.nih.gov/geo/samples/GSM2072nnn/GSM2072907/suppl/GSM2072907_14694.Mischel.NHA3.sh_PrimeView_.CEL.gz    \n",
       "GSM2072908 ftp://ftp.ncbi.nlm.nih.gov/geo/samples/GSM2072nnn/GSM2072908/suppl/GSM2072908_14695.Mischel.U87vIII1.sh_PrimeView_.CEL.gz\n",
       "GSM2072909 ftp://ftp.ncbi.nlm.nih.gov/geo/samples/GSM2072nnn/GSM2072909/suppl/GSM2072909_14696.Mischel.U87vIII2.sh_PrimeView_.CEL.gz\n",
       "GSM2072910 ftp://ftp.ncbi.nlm.nih.gov/geo/samples/GSM2072nnn/GSM2072910/suppl/GSM2072910_14697.Mischel.U87vIII3.sh_PrimeView_.CEL.gz\n",
       "           data_row_count cell type:ch1                   treated with:ch1\n",
       "GSM2072905 49395           Normal human astrocytes         DMSO control   \n",
       "GSM2072906 49395           Normal human astrocytes         DMSO control   \n",
       "GSM2072907 49395           Normal human astrocytes         DMSO control   \n",
       "GSM2072908 49395           U87EGFRvIII glioblastoma cells  DMSO control   \n",
       "GSM2072909 49395           U87EGFRvIII glioblastoma cells  DMSO control   \n",
       "GSM2072910 49395           U87EGFRvIII glioblastoma cells  DMSO control   "
      ]
     },
     "metadata": {},
     "output_type": "display_data"
    }
   ],
   "source": [
    "head(pData(glioMA))"
   ]
  },
  {
   "cell_type": "code",
   "execution_count": 31,
   "metadata": {},
   "outputs": [
    {
     "data": {
      "text/plain": [
       "\n",
       "           DMSO control  LXR-623 5 uM for 24 hr \n",
       "                      6                       6 "
      ]
     },
     "metadata": {},
     "output_type": "display_data"
    }
   ],
   "source": [
    "table(glioMA$`treated with:ch1`)"
   ]
  },
  {
   "cell_type": "markdown",
   "metadata": {},
   "source": [
    "Now we can use our plotting function again -- with one caveat.  The fields of `fData` are different between\n",
    "the two ExpressionSets.  We can update our new one fairly easily:"
   ]
  },
  {
   "cell_type": "code",
   "execution_count": 32,
   "metadata": {},
   "outputs": [
    {
     "data": {
      "image/png": "[encoded data removed]",
      "text/plain": [
       "plot without title"
      ]
     },
     "metadata": {},
     "output_type": "display_data"
    }
   ],
   "source": [
    "fData(glioMA)$SYMBOL = fData(glioMA)$\"Gene Symbol\" # our function assumes existence of SYMBOL in fData\n",
    "twoSamplePlot(glioMA, stratvar=\"treated with:ch1\", symbol=\"ABCA1\") # flawed see below"
   ]
  },
  {
   "cell_type": "markdown",
   "metadata": {},
   "source": [
    "### Exercise\n",
    "\n",
    "Our plot does not fully respect the design of the glioblastoma experiment.  There are normal\n",
    "and glioblastoma-derived cells."
   ]
  },
  {
   "cell_type": "code",
   "execution_count": 33,
   "metadata": {
    "scrolled": true
   },
   "outputs": [
    {
     "data": {
      "text/plain": [
       "\n",
       "\n",
       "|                                          |  DMSO control|  LXR-623 5 uM for 24 hr|\n",
       "|:-----------------------------------------|-------------:|-----------------------:|\n",
       "|cell type: Normal human astrocytes        |             3|                       3|\n",
       "|cell type: U87EGFRvIII glioblastoma cells |             3|                       3|"
      ]
     },
     "metadata": {},
     "output_type": "display_data"
    }
   ],
   "source": [
    "library(knitr)\n",
    "(kable(table(glioMA$`characteristics_ch1`, glioMA$`treated with:ch1`)))"
   ]
  },
  {
   "cell_type": "markdown",
   "metadata": {},
   "source": [
    "Use twoSamplePlot to compare only the normal astrocytes with respect to expression of ABCA1."
   ]
  },
  {
   "cell_type": "code",
   "execution_count": 34,
   "metadata": {},
   "outputs": [],
   "source": [
    "#twoSamplePlot(glioMA[, ...], stratvar=\"treated with:ch1\", symbol=\"ABCA1\")"
   ]
  },
  {
   "cell_type": "markdown",
   "metadata": {},
   "source": [
    "### Summary\n",
    "\n",
    "- ExpressionSets unify sample-level data with molecular assays\n",
    "- exprs(), fData(), pData() and associated shortcuts extract key components\n",
    "- GEOquery retrieves ExpressionSets from GEO\n",
    "- GEOmetadb indexes GEO and helps you find experiments for retrieval\n",
    "- *SummarizedExperiment* and *RangedSummarizedExperiment* are more modern alternatives to *ExpressionSet*, and have different methods"
   ]
  },
  {
   "cell_type": "code",
   "execution_count": null,
   "metadata": {},
   "outputs": [],
   "source": []
  }
 ],
 "metadata": {
  "kernelspec": {
   "display_name": "R",
   "language": "R",
   "name": "ir"
  },
  "language_info": {
   "codemirror_mode": "r",
   "file_extension": ".r",
   "mimetype": "text/x-r-source",
   "name": "R",
   "pygments_lexer": "r",
   "version": "3.4.3"
  }
 },
 "nbformat": 4,
 "nbformat_minor": 2
}
