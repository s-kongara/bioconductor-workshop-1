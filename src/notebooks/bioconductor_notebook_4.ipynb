{
 "cells": [
  {
   "cell_type": "markdown",
   "metadata": {},
   "source": [
    "# Period 4: Visualization of genome-scale data with R/Bioconductor\n",
    "\n",
    "```\n",
    "Road map:\n",
    "  - Purpose of visualization: exhibit the structure of variation\n",
    "  - Statistical modeling concepts\n",
    "      - Gaussian density and distribution functions\n",
    "      - QQ-plot to check adequacy of a distributional model\n",
    "      - histogram and density estimation\n",
    "      - Categorical data: contingency tables and tests of independence\n",
    "  - Multivariate visualization concepts\n",
    "      - comparing boxplots\n",
    "      - scatterplot, pairs plot\n",
    "      - visualizing clusters after dimension reduction\n",
    "  - Grammar of graphics sketched\n",
    "  - ggbio\n",
    "  - Gviz: a sashimi plot for paired-end RNA-seq\n",
    "```\n",
    "      "
   ]
  },
  {
   "cell_type": "code",
   "execution_count": 1,
   "metadata": {},
   "outputs": [],
   "source": [
    "suppressPackageStartupMessages({   # setup\n",
    "library(vcd)\n",
    "    library(Homo.sapiens)\n",
    "    library(logspline)\n",
    "    library(beeswarm)\n",
    "    library(cluster)\n",
    "    library(ggbio)\n",
    "    library(biovizBase)\n",
    "    library(Gviz)\n",
    "})"
   ]
  },
  {
   "cell_type": "markdown",
   "metadata": {},
   "source": [
    "## Overview of visualization\n",
    "\n",
    "The basic purpose of visualization is to expose the \"structure of variation\" in datasets.\n",
    "Even for simple data elements that might occupy a given vector in R\n",
    "can have intricate \"structure\" that visualization can help expose.  Before focusing\n",
    "sharply on tools for genomic visualization, we'll introduce\n",
    "some basic concepts of statistical modeling to help formalize this concept\n",
    "of \"structured variation\".\n",
    "\n",
    "### Some comments on statistical models \n",
    "\n",
    "We will discuss histograms and density estimates for univariate continuous data, and\n",
    "some views of contingency tables for discrete multivariate data.\n",
    "\n",
    "#### The concept of a density function\n",
    "\n",
    "Basic model for continuous univariate measurement: $N$ data points denoted\n",
    "$x_i, i = 1, \\ldots, N$ \n",
    "\n",
    "- are _statistically independent_ (value of $x_i$ tells us\n",
    "nothing about the distribution of $x_j$, $j \\neq i$)\n",
    "- have relative frequencies prescribed by mathematical functions that have certain properties\n",
    "\n",
    "Example for students with some exposure to probability theory:  Define \n",
    "$$\n",
    "f(t) = \\frac{1}{\\sqrt{2\\pi}} e^{-\\frac{t^2}{2}}\n",
    "$$\n",
    "and let $F(x) = \\int\\limits_{-\\infty}^x f(t) dt$.  $F$ is known as the standard\n",
    "normal or Gaussian _distribution function_.  You can use R to explore this formalism."
   ]
  },
  {
   "cell_type": "code",
   "execution_count": 2,
   "metadata": {},
   "outputs": [
    {
     "data": {
      "image/png": "[encoded data removed]",
      "text/plain": [
       "plot without title"
      ]
     },
     "metadata": {},
     "output_type": "display_data"
    }
   ],
   "source": [
    "myf = function(t) (1/(sqrt(2*pi)))*exp(-t^2/2)\n",
    "myF = function(x) integrate(myf, -Inf, x)$value\n",
    "dom = seq(-3,3,.1)\n",
    "    options(repr.plot.width=3.5, repr.plot.height=3.5)\n",
    "plot(dom, sapply(dom, myF), xlab=\"x\", ylab=\"F(x)\", type=\"l\")"
   ]
  },
  {
   "cell_type": "markdown",
   "metadata": {},
   "source": [
    "The function $f$ defined above is the standard Gaussian _density function_.  We have written code for it already.  It's a little easier to plot it because we coded it in a vectorized way.\n",
    "(As a mildly advanced exercise, recode `myF` so that it returns a vector of values $F(x)$ for a vector input.)\n",
    "\n",
    "The density function has a familiar display:"
   ]
  },
  {
   "cell_type": "code",
   "execution_count": 3,
   "metadata": {},
   "outputs": [
    {
     "data": {
      "image/png": "[encoded data removed]",
      "text/plain": [
       "plot without title"
      ]
     },
     "metadata": {},
     "output_type": "display_data"
    }
   ],
   "source": [
    "plot(dom, myf(dom), type=\"l\", xlab=\"x\", ylab=\"f(x)\")"
   ]
  },
  {
   "cell_type": "markdown",
   "metadata": {},
   "source": [
    "R has more general Gaussian density and distribution functions built in, in the sense that\n",
    "mean and variance values can also be specified to define location and spread.  Here we just show that our handwritten density and the built-in one agree on the points we plotted."
   ]
  },
  {
   "cell_type": "code",
   "execution_count": 4,
   "metadata": {},
   "outputs": [
    {
     "data": {
      "text/html": [
       "<ol class=list-inline>\n",
       "\t<li>0</li>\n",
       "\t<li>0</li>\n",
       "</ol>\n"
      ],
      "text/latex": [
       "\\begin{enumerate*}\n",
       "\\item 0\n",
       "\\item 0\n",
       "\\end{enumerate*}\n"
      ],
      "text/markdown": [
       "1. 0\n",
       "2. 0\n",
       "\n",
       "\n"
      ],
      "text/plain": [
       "[1] 0 0"
      ]
     },
     "metadata": {},
     "output_type": "display_data"
    }
   ],
   "source": [
    "range(myf(dom)-dnorm(dom)) # dnorm is built in"
   ]
  },
  {
   "cell_type": "markdown",
   "metadata": {},
   "source": [
    "### QQ-plots -- visual assessment of distributional model adequacy\n",
    "\n",
    "If the standard Gaussian model fits data in a vector well, the `qqnorm` function will produce a transformation of the data that is close to the line of identity."
   ]
  },
  {
   "cell_type": "code",
   "execution_count": 5,
   "metadata": {},
   "outputs": [
    {
     "data": {
      "image/png": "[encoded data removed]",
      "text/plain": [
       "Plot with title \"Normal Q-Q Plot\""
      ]
     },
     "metadata": {},
     "output_type": "display_data"
    }
   ],
   "source": [
    "dat = rnorm(1000) # simulated\n",
    "qqnorm(dat)\n",
    "abline(0,1)"
   ]
  },
  {
   "cell_type": "markdown",
   "metadata": {},
   "source": [
    "This idea can be used with data from other distributional models.  See the `qqplot` function, which shows\n",
    "how a QQ-plot can be used to check for goodness of fit to a chi-squared distribution."
   ]
  },
  {
   "cell_type": "markdown",
   "metadata": {},
   "source": [
    "#### Histograms as estimates of densities\n",
    "\n",
    "A basic tool of exploratory visualization is the histogram.  This can be tuned\n",
    "in various ways, but let's consider how its default implementation can be used to think about the\n",
    "plausibility of a model for a given set of data.  We simulate standard\n",
    "Gaussian observations in R, plot the histogram, and check its relationship to\n",
    "the theoretical density."
   ]
  },
  {
   "cell_type": "code",
   "execution_count": 6,
   "metadata": {},
   "outputs": [
    {
     "data": {
      "image/png": "[encoded data removed]",
      "text/plain": [
       "Plot with title \"Histogram of dat\""
      ]
     },
     "metadata": {},
     "output_type": "display_data"
    }
   ],
   "source": [
    "set.seed(1234)\n",
    "dat = rnorm(1000) # simulated\n",
    "hist(dat, freq=FALSE)\n",
    "lines(dom, dnorm(dom), lty=2)\n",
    "lines(density(dat), lty=3)"
   ]
  },
  {
   "cell_type": "markdown",
   "metadata": {},
   "source": [
    "Both the default histogram and the default density estimate accurately characterize\n",
    "variation in the simulated data.  We will now apply them to a classic dataset."
   ]
  },
  {
   "cell_type": "markdown",
   "metadata": {},
   "source": [
    "#### Histogram and density with a dataset\n",
    "\n",
    "R.A. Fisher studied measurements of parts of three species of iris plants."
   ]
  },
  {
   "cell_type": "code",
   "execution_count": 7,
   "metadata": {},
   "outputs": [
    {
     "data": {
      "text/html": [
       "<table>\n",
       "<thead><tr><th scope=col>Sepal.Length</th><th scope=col>Sepal.Width</th><th scope=col>Petal.Length</th><th scope=col>Petal.Width</th><th scope=col>Species</th></tr></thead>\n",
       "<tbody>\n",
       "\t<tr><td>5.1   </td><td>3.5   </td><td>1.4   </td><td>0.2   </td><td>setosa</td></tr>\n",
       "\t<tr><td>4.9   </td><td>3.0   </td><td>1.4   </td><td>0.2   </td><td>setosa</td></tr>\n",
       "\t<tr><td>4.7   </td><td>3.2   </td><td>1.3   </td><td>0.2   </td><td>setosa</td></tr>\n",
       "\t<tr><td>4.6   </td><td>3.1   </td><td>1.5   </td><td>0.2   </td><td>setosa</td></tr>\n",
       "\t<tr><td>5.0   </td><td>3.6   </td><td>1.4   </td><td>0.2   </td><td>setosa</td></tr>\n",
       "\t<tr><td>5.4   </td><td>3.9   </td><td>1.7   </td><td>0.4   </td><td>setosa</td></tr>\n",
       "</tbody>\n",
       "</table>\n"
      ],
      "text/latex": [
       "\\begin{tabular}{r|lllll}\n",
       " Sepal.Length & Sepal.Width & Petal.Length & Petal.Width & Species\\\\\n",
       "\\hline\n",
       "\t 5.1    & 3.5    & 1.4    & 0.2    & setosa\\\\\n",
       "\t 4.9    & 3.0    & 1.4    & 0.2    & setosa\\\\\n",
       "\t 4.7    & 3.2    & 1.3    & 0.2    & setosa\\\\\n",
       "\t 4.6    & 3.1    & 1.5    & 0.2    & setosa\\\\\n",
       "\t 5.0    & 3.6    & 1.4    & 0.2    & setosa\\\\\n",
       "\t 5.4    & 3.9    & 1.7    & 0.4    & setosa\\\\\n",
       "\\end{tabular}\n"
      ],
      "text/markdown": [
       "\n",
       "Sepal.Length | Sepal.Width | Petal.Length | Petal.Width | Species | \n",
       "|---|---|---|---|---|---|\n",
       "| 5.1    | 3.5    | 1.4    | 0.2    | setosa | \n",
       "| 4.9    | 3.0    | 1.4    | 0.2    | setosa | \n",
       "| 4.7    | 3.2    | 1.3    | 0.2    | setosa | \n",
       "| 4.6    | 3.1    | 1.5    | 0.2    | setosa | \n",
       "| 5.0    | 3.6    | 1.4    | 0.2    | setosa | \n",
       "| 5.4    | 3.9    | 1.7    | 0.4    | setosa | \n",
       "\n",
       "\n"
      ],
      "text/plain": [
       "  Sepal.Length Sepal.Width Petal.Length Petal.Width Species\n",
       "1 5.1          3.5         1.4          0.2         setosa \n",
       "2 4.9          3.0         1.4          0.2         setosa \n",
       "3 4.7          3.2         1.3          0.2         setosa \n",
       "4 4.6          3.1         1.5          0.2         setosa \n",
       "5 5.0          3.6         1.4          0.2         setosa \n",
       "6 5.4          3.9         1.7          0.4         setosa "
      ]
     },
     "metadata": {},
     "output_type": "display_data"
    }
   ],
   "source": [
    "head(iris)"
   ]
  },
  {
   "cell_type": "markdown",
   "metadata": {},
   "source": [
    "We'll use a histogram and default density estimate to visualize the distribution of petal width."
   ]
  },
  {
   "cell_type": "code",
   "execution_count": 8,
   "metadata": {},
   "outputs": [
    {
     "data": {
      "image/png": "[encoded data removed]",
      "text/plain": [
       "Plot with title \"Histogram of iris$Petal.Width\""
      ]
     },
     "metadata": {},
     "output_type": "display_data"
    }
   ],
   "source": [
    "hist(iris$Petal.Width, freq=FALSE)\n",
    "lines(density(iris$Petal.Width))"
   ]
  },
  {
   "cell_type": "markdown",
   "metadata": {},
   "source": [
    "Both the histogram and the density serve to demonstrate that a unimodal model \n",
    "will not work well for this dataset.  \n",
    "\n",
    "It is worth noting that the default density display seems particularly flawed in that\n",
    "it appears to support negative width measures.  (The density sketch extended smoothly\n",
    "at the left boundary will be positive, but negative values must have probability 0.)  \n",
    "\n",
    "#### The following material is optional\n",
    "\n",
    "A density estimation tool that can respect\n",
    "constraints on the measurement range is available in the logspline package."
   ]
  },
  {
   "cell_type": "code",
   "execution_count": 9,
   "metadata": {},
   "outputs": [],
   "source": [
    "if (FALSE) { # change to TRUE if you want to explore this\n",
    " library(logspline)  # tell logspline no negative values \n",
    " suppressWarnings(f1 <- logspline(iris$Petal.Width, lbound=0))\n",
    " hist(iris$Petal.Width, freq=FALSE)\n",
    " dom=seq(0,2.6,.01)\n",
    " lines(dom, dlogspline(dom, fit=f1), lty=2)\n",
    " lines(density(iris$Petal.Width), lty=3, col=\"gray\")\n",
    " legend(1.0, 1.1, legend=c(\"logspline\", \"default\"), \n",
    "       lty=c(2,3), col=c(\"black\", \"gray\"), bty=\"n\")\n",
    "}"
   ]
  },
  {
   "cell_type": "markdown",
   "metadata": {},
   "source": [
    "The histogram is a form of 'nonparametric' density estimation -- it makes no assumptions about the functional form of the underlying distribution.  The logspline density estimate\n",
    "assumes that there is a smooth underlying density, and constraints like bounds\n",
    "on the observation space can be imposed.  The default density estimator in R\n",
    "can be tuned, see `?density`.\n",
    "\n",
    "As a concluding remark on the value of refined density estimation, we note that the _default_ logspline\n",
    "estimate was quite suggestive of a trimodal distribution.  We know more about the\n",
    "iris data than just the measured feature values. Measurements were collected on three different species of plant.  The mean values\n",
    "of petal width for these species seem to lie close to the local modes suggested by the\n",
    "logspline estimate.  This is much less apparent with the default density estimate."
   ]
  },
  {
   "cell_type": "code",
   "execution_count": 10,
   "metadata": {},
   "outputs": [],
   "source": [
    "#sapply(split(iris$Petal.Width, iris$Species), mean)"
   ]
  },
  {
   "cell_type": "code",
   "execution_count": 11,
   "metadata": {},
   "outputs": [],
   "source": [
    "if (FALSE) {\n",
    "hist(iris$Petal.Width, freq=FALSE)\n",
    "dom=seq(0,2.6,.01)\n",
    "lines(dom, dlogspline(dom, fit=f1), lty=2)\n",
    "lines(density(iris$Petal.Width), lty=3, col=\"gray\")\n",
    "legend(1.0, 1.1, legend=c(\"logspline\", \"default\"), \n",
    "       lty=c(2,3), col=c(\"black\", \"gray\"), bty=\"n\")\n",
    "abline(v=c(.246, 1.326, 2.026), lty=4)\n",
    "}"
   ]
  },
  {
   "cell_type": "markdown",
   "metadata": {},
   "source": [
    "#### Models and visualization for discrete data\n",
    "\n",
    "We'll briefly address categorical data that do not have a natural ordering.  A nice\n",
    "example dataset is the `HairEyeColor` array.\n"
   ]
  },
  {
   "cell_type": "code",
   "execution_count": 12,
   "metadata": {},
   "outputs": [
    {
     "data": {
      "text/plain": [
       ", , Sex = Male\n",
       "\n",
       "       Eye\n",
       "Hair    Brown Blue Hazel Green\n",
       "  Black    32   11    10     3\n",
       "  Brown    53   50    25    15\n",
       "  Red      10   10     7     7\n",
       "  Blond     3   30     5     8\n",
       "\n",
       ", , Sex = Female\n",
       "\n",
       "       Eye\n",
       "Hair    Brown Blue Hazel Green\n",
       "  Black    36    9     5     2\n",
       "  Brown    66   34    29    14\n",
       "  Red      16    7     7     7\n",
       "  Blond     4   64     5     8\n"
      ]
     },
     "metadata": {},
     "output_type": "display_data"
    }
   ],
   "source": [
    "HairEyeColor"
   ]
  },
  {
   "cell_type": "markdown",
   "metadata": {},
   "source": [
    "We'd like to understand whether eye and hair color are associated, and whether\n",
    "the association varies by gender.  \n",
    "\n",
    "#### Two-dimensional problem\n",
    "\n",
    "To begin, we'll collapse over genders and consider \n",
    "a model for the $4 \\times 4$ table with hair color in rows and eye color in columns:"
   ]
  },
  {
   "cell_type": "code",
   "execution_count": 13,
   "metadata": {},
   "outputs": [
    {
     "data": {
      "text/html": [
       "<table>\n",
       "<thead><tr><th></th><th scope=col>Brown</th><th scope=col>Blue</th><th scope=col>Hazel</th><th scope=col>Green</th></tr></thead>\n",
       "<tbody>\n",
       "\t<tr><th scope=row>Black</th><td> 68</td><td>20 </td><td>15 </td><td> 5 </td></tr>\n",
       "\t<tr><th scope=row>Brown</th><td>119</td><td>84 </td><td>54 </td><td>29 </td></tr>\n",
       "\t<tr><th scope=row>Red</th><td> 26</td><td>17 </td><td>14 </td><td>14 </td></tr>\n",
       "\t<tr><th scope=row>Blond</th><td>  7</td><td>94 </td><td>10 </td><td>16 </td></tr>\n",
       "</tbody>\n",
       "</table>\n"
      ],
      "text/latex": [
       "\\begin{tabular}{r|llll}\n",
       "  & Brown & Blue & Hazel & Green\\\\\n",
       "\\hline\n",
       "\tBlack &  68 & 20  & 15  &  5 \\\\\n",
       "\tBrown & 119 & 84  & 54  & 29 \\\\\n",
       "\tRed &  26 & 17  & 14  & 14 \\\\\n",
       "\tBlond &   7 & 94  & 10  & 16 \\\\\n",
       "\\end{tabular}\n"
      ],
      "text/markdown": [
       "\n",
       "| <!--/--> | Brown | Blue | Hazel | Green | \n",
       "|---|---|---|---|\n",
       "| Black |  68 | 20  | 15  |  5  | \n",
       "| Brown | 119 | 84  | 54  | 29  | \n",
       "| Red |  26 | 17  | 14  | 14  | \n",
       "| Blond |   7 | 94  | 10  | 16  | \n",
       "\n",
       "\n"
      ],
      "text/plain": [
       "       Eye\n",
       "Hair    Brown Blue Hazel Green\n",
       "  Black  68   20   15     5   \n",
       "  Brown 119   84   54    29   \n",
       "  Red    26   17   14    14   \n",
       "  Blond   7   94   10    16   "
      ]
     },
     "metadata": {},
     "output_type": "display_data"
    }
   ],
   "source": [
    "hae = apply(HairEyeColor,1:2,sum)\n",
    "hae"
   ]
  },
  {
   "cell_type": "markdown",
   "metadata": {},
   "source": [
    "Let $p_{ij}$ denote the joint probability of having hair color $i$ and eye color $j$, let $p_{i\\cdot}$\n",
    "denote the marginal probability of having hair color $i$, and let\n",
    "$p_{\\cdot j}$ denote the marginal probability of having eye color $j$.  The\n",
    "independence model asserts that $p_{ij} = p_{i\\cdot} p_{\\cdot j}$ for all $i$ and $j$.  Pearson's Chi-squared statistic measures the goodness of fit of this model.  The `assoc` function of the\n",
    "vcd package displays the magnitudes of residuals (normalized departures from values expected\n",
    "under the independence model, see ?assoc for details)."
   ]
  },
  {
   "cell_type": "code",
   "execution_count": 14,
   "metadata": {},
   "outputs": [
    {
     "data": {
      "image/png": "[encoded data removed]",
      "text/plain": [
       "plot without title"
      ]
     },
     "metadata": {},
     "output_type": "display_data"
    }
   ],
   "source": [
    "library(vcd)\n",
    "options(repr.plot.width=5, repr.plot.height=5)\n",
    "assoc(hae, ~Eye + Hair, shade=TRUE)"
   ]
  },
  {
   "cell_type": "markdown",
   "metadata": {},
   "source": [
    "#### Three-dimensional problem\n",
    "\n",
    "To address the full dataset,\n",
    "we'll use the `mosaicplot` function to examine relative frequencies of different\n",
    "(sex, eyecolor, haircolor) configurations in the data.  With the `shade` parameter\n",
    "set, we are presented with a collection of colored rectangles that depict the\n",
    "relative frequencies of the different categories.  Red boxes correspond to \n",
    "configurations that are relatively unusual under the assumption of independence.\n",
    "Blue boxes correspond to configurations that have unexpectedly high prevalence."
   ]
  },
  {
   "cell_type": "code",
   "execution_count": 15,
   "metadata": {},
   "outputs": [
    {
     "data": {
      "image/png": "[encoded data removed]",
      "text/plain": [
       "Plot with title \"HairEyeColor\""
      ]
     },
     "metadata": {},
     "output_type": "display_data"
    }
   ],
   "source": [
    "options(repr.plot.width=5.5, repr.plot.height=5.5)\n",
    "mosaicplot(HairEyeColor, shade=TRUE)"
   ]
  },
  {
   "cell_type": "markdown",
   "metadata": {},
   "source": [
    "The colored residual rectangles can be\n",
    "read to indicate that there are fewer blond-haired brown-eyed individuals than expected under\n",
    "an assumption of independence. The combination of black hair and brown eyes occurs more commonly than\n",
    "would be expected under this assumption.  The discipline of [log-linear modeling](https://books.google.com/books?id=Td5dhfwi31EC&source=gbs_book_other_versions)\n",
    "and [formalism on the chi-squared test](https://en.wikipedia.org/wiki/Pearson%27s_chi-squared_test) can be reviewed to get a deeper understanding of this technique."
   ]
  },
  {
   "cell_type": "markdown",
   "metadata": {},
   "source": [
    "## A quick survey of R's base graphics for multivariate data\n",
    "\n",
    "### Additional views of Fisher's iris data\n",
    "\n",
    "We focused before on a single feature.  The full dataset has four features and species label."
   ]
  },
  {
   "cell_type": "code",
   "execution_count": 16,
   "metadata": {},
   "outputs": [
    {
     "data": {
      "text/html": [
       "<table>\n",
       "<thead><tr><th scope=col>Sepal.Length</th><th scope=col>Sepal.Width</th><th scope=col>Petal.Length</th><th scope=col>Petal.Width</th><th scope=col>Species</th></tr></thead>\n",
       "<tbody>\n",
       "\t<tr><td>5.1   </td><td>3.5   </td><td>1.4   </td><td>0.2   </td><td>setosa</td></tr>\n",
       "\t<tr><td>4.9   </td><td>3.0   </td><td>1.4   </td><td>0.2   </td><td>setosa</td></tr>\n",
       "\t<tr><td>4.7   </td><td>3.2   </td><td>1.3   </td><td>0.2   </td><td>setosa</td></tr>\n",
       "\t<tr><td>4.6   </td><td>3.1   </td><td>1.5   </td><td>0.2   </td><td>setosa</td></tr>\n",
       "\t<tr><td>5.0   </td><td>3.6   </td><td>1.4   </td><td>0.2   </td><td>setosa</td></tr>\n",
       "\t<tr><td>5.4   </td><td>3.9   </td><td>1.7   </td><td>0.4   </td><td>setosa</td></tr>\n",
       "</tbody>\n",
       "</table>\n"
      ],
      "text/latex": [
       "\\begin{tabular}{r|lllll}\n",
       " Sepal.Length & Sepal.Width & Petal.Length & Petal.Width & Species\\\\\n",
       "\\hline\n",
       "\t 5.1    & 3.5    & 1.4    & 0.2    & setosa\\\\\n",
       "\t 4.9    & 3.0    & 1.4    & 0.2    & setosa\\\\\n",
       "\t 4.7    & 3.2    & 1.3    & 0.2    & setosa\\\\\n",
       "\t 4.6    & 3.1    & 1.5    & 0.2    & setosa\\\\\n",
       "\t 5.0    & 3.6    & 1.4    & 0.2    & setosa\\\\\n",
       "\t 5.4    & 3.9    & 1.7    & 0.4    & setosa\\\\\n",
       "\\end{tabular}\n"
      ],
      "text/markdown": [
       "\n",
       "Sepal.Length | Sepal.Width | Petal.Length | Petal.Width | Species | \n",
       "|---|---|---|---|---|---|\n",
       "| 5.1    | 3.5    | 1.4    | 0.2    | setosa | \n",
       "| 4.9    | 3.0    | 1.4    | 0.2    | setosa | \n",
       "| 4.7    | 3.2    | 1.3    | 0.2    | setosa | \n",
       "| 4.6    | 3.1    | 1.5    | 0.2    | setosa | \n",
       "| 5.0    | 3.6    | 1.4    | 0.2    | setosa | \n",
       "| 5.4    | 3.9    | 1.7    | 0.4    | setosa | \n",
       "\n",
       "\n"
      ],
      "text/plain": [
       "  Sepal.Length Sepal.Width Petal.Length Petal.Width Species\n",
       "1 5.1          3.5         1.4          0.2         setosa \n",
       "2 4.9          3.0         1.4          0.2         setosa \n",
       "3 4.7          3.2         1.3          0.2         setosa \n",
       "4 4.6          3.1         1.5          0.2         setosa \n",
       "5 5.0          3.6         1.4          0.2         setosa \n",
       "6 5.4          3.9         1.7          0.4         setosa "
      ]
     },
     "metadata": {},
     "output_type": "display_data"
    }
   ],
   "source": [
    "head(iris)"
   ]
  },
  {
   "cell_type": "markdown",
   "metadata": {},
   "source": [
    "#### Marginal distributions\n",
    "\n",
    "Using base R to visualize a group of distributions can lead to complications even\n",
    "when something as simple as the boxplot is in use.  The defaults for the display below\n",
    "lead to dropping a species label in each plot.  We need to rotate the labels to have\n",
    "them fit in the available margin space."
   ]
  },
  {
   "cell_type": "code",
   "execution_count": 17,
   "metadata": {},
   "outputs": [
    {
     "data": {
      "image/png": "[encoded data removed]",
      "text/plain": [
       "Plot with title \"Petal.Width\""
      ]
     },
     "metadata": {},
     "output_type": "display_data"
    }
   ],
   "source": [
    "par(mfrow=c(2,2))\n",
    "for (i in 1:4) {\n",
    "      boxplot(split(iris[,i], iris$Species),\n",
    "         main=names(iris)[i], axes=FALSE)\n",
    "      axis(2)\n",
    "      text(1:3, par(\"usr\")[3] - 0.25, srt = 45, adj = 1,\n",
    "          labels = levels(iris$Species), xpd = TRUE)\n",
    "      }\n"
   ]
  },
  {
   "cell_type": "markdown",
   "metadata": {},
   "source": [
    "It is often of interest to visualize the individual data points.  The beeswarm\n",
    "algorithm is easy to use."
   ]
  },
  {
   "cell_type": "code",
   "execution_count": 18,
   "metadata": {},
   "outputs": [
    {
     "data": {
      "image/png": "[encoded data removed]",
      "text/plain": [
       "Plot with title \"Petal.Width\""
      ]
     },
     "metadata": {},
     "output_type": "display_data"
    }
   ],
   "source": [
    "library(beeswarm)\n",
    "par(mfrow=c(2,2))\n",
    "for (i in 1:4) beeswarm(iris[,i]~Species, \n",
    "        data=iris, main=names(iris)[i], ylab=\" \")"
   ]
  },
  {
   "cell_type": "markdown",
   "metadata": {},
   "source": [
    "Exercise.  Fix the code just above so that all species labels appear."
   ]
  },
  {
   "cell_type": "markdown",
   "metadata": {},
   "source": [
    "#### Bivariate distributions\n",
    "\n",
    "The formula notation is a natural one to use for simple scatterplots.  Because the\n",
    "data are recorded to only one decimal place, we use `jitter` to reduce overplotting."
   ]
  },
  {
   "cell_type": "code",
   "execution_count": 19,
   "metadata": {},
   "outputs": [
    {
     "data": {
      "image/png": "[encoded data removed]",
      "text/plain": [
       "plot without title"
      ]
     },
     "metadata": {},
     "output_type": "display_data"
    }
   ],
   "source": [
    "par(mfrow=c(1,1))\n",
    "options(repr.plot.width=4, repr.plot.height=4) # specific for jupyter\n",
    "plot(Sepal.Length~jitter(Sepal.Width), data=iris)"
   ]
  },
  {
   "cell_type": "markdown",
   "metadata": {},
   "source": [
    "Additional parameters can be given to alter the appearance."
   ]
  },
  {
   "cell_type": "code",
   "execution_count": 20,
   "metadata": {},
   "outputs": [
    {
     "data": {
      "image/png": "[encoded data removed]",
      "text/plain": [
       "plot without title"
      ]
     },
     "metadata": {},
     "output_type": "display_data"
    }
   ],
   "source": [
    "options(repr.plot.width=5, repr.plot.height=5)\n",
    "plot(Sepal.Length~jitter(Sepal.Width), data=iris, pch=19, col=Species)\n",
    "legend(1.9, 7.5, col=1:3, pch=19, legend=levels(iris$Species), bty=\"n\")"
   ]
  },
  {
   "cell_type": "markdown",
   "metadata": {},
   "source": [
    "For a modest number of features, `pairs` provides all pairwise scatterplots."
   ]
  },
  {
   "cell_type": "code",
   "execution_count": 21,
   "metadata": {},
   "outputs": [
    {
     "data": {
      "image/png": "[encoded data removed]",
      "text/plain": [
       "plot without title"
      ]
     },
     "metadata": {},
     "output_type": "display_data"
    }
   ],
   "source": [
    "pairs(iris[,-5], col=iris$Species, pch=19, cex.labels=.9)"
   ]
  },
  {
   "cell_type": "markdown",
   "metadata": {},
   "source": [
    "### A cluster analysis\n",
    "\n",
    "Simple unsupervised analysis of multivariate data can be conducted with\n",
    "the cluster package.  Symbols are used to distinguish cluster assignments,\n",
    "and, in the call used here, color is used to discriminate the species \n",
    "by which samples are labeled.  The 4-dimensional data are projected to the\n",
    "plane defined by the first two principal components.\n"
   ]
  },
  {
   "cell_type": "code",
   "execution_count": 22,
   "metadata": {},
   "outputs": [
    {
     "data": {
      "image/png": "[encoded data removed]",
      "text/plain": [
       "Plot with title \"clusplot(pam(x = iris[, -5], k = 3))\""
      ]
     },
     "metadata": {},
     "output_type": "display_data"
    }
   ],
   "source": [
    "library(cluster)\n",
    "c1 = pam(iris[,-5], 3)\n",
    "plot(c1, col=TRUE, col.p=iris$Species, which=1)"
   ]
  },
  {
   "cell_type": "markdown",
   "metadata": {},
   "source": [
    "## ggplot2: an implementation of a grammar of graphics\n",
    "\n",
    "Base graphics in R have primary interfaces `plot`, `lines`, `points`, `par`.\n",
    "\n",
    "Leland Wilkinson proposed a grammatical way of thinking about statistical visualization, and\n",
    "Hadley Wickham's ggplot2 package implements features of this grammatical model.\n",
    "\n",
    "We start with a data.frame instance in which rows define samples and columns define features.\n",
    "Key components of the model are  `stats`, which define data reductions of use for\n",
    "display, `geoms`, which are types of renderings of stats that will ultimately\n",
    "display in the plane, `aes`, a specification of how data elements map to components\n",
    "of `stats` and `geoms`, and `facets`, that organize groups of displays.\n",
    "\n",
    "The easiest way to get a grip on this is to plunge in.  Let's work with the iris data\n",
    "for concreteness.  We'll create one- and then two-dimensional histograms for iris features."
   ]
  },
  {
   "cell_type": "code",
   "execution_count": 23,
   "metadata": {},
   "outputs": [
    {
     "name": "stderr",
     "output_type": "stream",
     "text": [
      "`stat_bin()` using `bins = 30`. Pick better value with `binwidth`.\n"
     ]
    },
    {
     "data": {},
     "metadata": {},
     "output_type": "display_data"
    },
    {
     "data": {
      "image/png": "[encoded data removed]",
      "text/plain": [
       "plot without title"
      ]
     },
     "metadata": {},
     "output_type": "display_data"
    }
   ],
   "source": [
    "options(repr.plot.height=3) # specific for jupyter\n",
    "ggplot(iris, aes(x=Sepal.Length)) + geom_histogram() + facet_grid(~Species)"
   ]
  },
  {
   "cell_type": "code",
   "execution_count": 24,
   "metadata": {},
   "outputs": [
    {
     "data": {},
     "metadata": {},
     "output_type": "display_data"
    },
    {
     "data": {
      "image/png": "[encoded data removed]",
      "text/plain": [
       "plot without title"
      ]
     },
     "metadata": {},
     "output_type": "display_data"
    }
   ],
   "source": [
    "ggplot(iris, aes(x=Sepal.Length, y=Petal.Length)) + geom_bin2d() + facet_grid(~Species)"
   ]
  },
  {
   "cell_type": "markdown",
   "metadata": {},
   "source": [
    "We see the pattern, that is somewhat unusual given what we've done with R so far\n",
    "\n",
    "- we start by evaluating `ggplot` on a data.frame with some additional parameters\n",
    "- we use `+` to add specifications to the visualization\n",
    "- evaluating the resulting expression produces the rendering\n",
    "\n",
    "There is one more feature of ggplot2 that we will not discuss: the definition of `autoplot` methods that compose ggplot commands relevant to instances of specific classes.  We'll\n",
    "encounter this in the next section.\n"
   ]
  },
  {
   "cell_type": "markdown",
   "metadata": {},
   "source": [
    "### Exercise\n",
    "\n",
    "The following display shows how we can enhance views of bivariate scatter using density contours, using\n",
    "the algebraic approach to plot enhancement afforded by ggplot2."
   ]
  },
  {
   "cell_type": "code",
   "execution_count": 25,
   "metadata": {},
   "outputs": [
    {
     "data": {},
     "metadata": {},
     "output_type": "display_data"
    },
    {
     "data": {
      "image/png": "[encoded data removed]",
      "text/plain": [
       "plot without title"
      ]
     },
     "metadata": {},
     "output_type": "display_data"
    }
   ],
   "source": [
    "g1 = ggplot(iris, aes(x=Sepal.Length, y=Petal.Length)) + geom_density2d() + facet_grid(~Species)\n",
    "g1 + geom_point(size=.5)"
   ]
  },
  {
   "cell_type": "raw",
   "metadata": {},
   "source": [
    "The data for setosa plants seem peculiar in that there are at least five data points outside the most extreme\n",
    "density contour.  Modify the next code section to \"zoom in\" on that species to get clearer on\n",
    "the shape and extent of the bivariate density contours in relation to the observed data points."
   ]
  },
  {
   "cell_type": "code",
   "execution_count": 26,
   "metadata": {},
   "outputs": [],
   "source": [
    "# remove the comments with your modifications\n",
    "# ir2 = subset(iris, ...\n",
    "#\n",
    "# g1 = ggplot(ir2, aes(x=jitter(Sepal.Length), y=jitter(Petal.Length))) + geom_density2d()\n",
    "# g1 + ...   #\n",
    "# boxplot(ir2$Petal.Length) # any boxplot outliers?"
   ]
  },
  {
   "cell_type": "markdown",
   "metadata": {},
   "source": [
    "## ggbio\n",
    "\n",
    "The [ggbio](http://www.bioconductor.org/packages/ggbio) package has a number of `autoplot` methods for various types of genomic data.  `autoplot` methods can be created very flexibly\n",
    "to define ggplot2 rendering interfaces tailored to particular\n",
    "data classes.\n",
    "\n",
    "### Genome-wide surveys\n",
    "\n",
    "It is relatively easy to obtain a view over chromosomes of data in a GRanges."
   ]
  },
  {
   "cell_type": "code",
   "execution_count": 27,
   "metadata": {},
   "outputs": [
    {
     "name": "stderr",
     "output_type": "stream",
     "text": [
      "Scale for 'x' is already present. Adding another scale for 'x', which will\n",
      "replace the existing scale.\n",
      "Scale for 'x' is already present. Adding another scale for 'x', which will\n",
      "replace the existing scale.\n"
     ]
    },
    {
     "data": {},
     "metadata": {},
     "output_type": "display_data"
    },
    {
     "data": {
      "image/png": "[encoded data removed]",
      "text/plain": [
       "plot without title"
      ]
     },
     "metadata": {},
     "output_type": "display_data"
    }
   ],
   "source": [
    "options(repr.plot.height=5)\n",
    "library(ERBS)\n",
    "data(HepG2)\n",
    "library(GenomeInfoDb)  # trim all but autosomal chroms\n",
    "HepG2 = keepStandardChromosomes(HepG2)\n",
    "data(GM12878)\n",
    "GM12878 = keepStandardChromosomes(GM12878)\n",
    "library(ggbio)\n",
    "autoplot(HepG2, layout=\"karyogram\", main=\"ESRRA binding on HepG2\")"
   ]
  },
  {
   "cell_type": "markdown",
   "metadata": {},
   "source": [
    "### Visualizing gene models.\n",
    "\n",
    "Particularly in RNA-seq studies, it is useful to be able to\n",
    "see the diversity of transcript forms corresponding to genes.  Again\n",
    "an autoplot method can be used.\n",
    "\n",
    "We'll set up by getting a convenient representation of gene addresses from\n",
    "[biovizBase](http://www.bioconductor.org/packages/biovizBase)."
   ]
  },
  {
   "cell_type": "code",
   "execution_count": 28,
   "metadata": {},
   "outputs": [
    {
     "data": {
      "text/plain": [
       "GRanges object with 29177 ranges and 2 metadata columns:\n",
       "               seqnames                 ranges strand |       symbol\n",
       "                  <Rle>              <IRanges>  <Rle> |  <character>\n",
       "          A1BG    chr19   [58858174, 58864865]      - |         A1BG\n",
       "           A2M    chr12   [ 9220304,  9268558]      - |          A2M\n",
       "          NAT1     chr8   [18027971, 18081197]      + |         NAT1\n",
       "          NAT1     chr8   [18067618, 18081197]      + |         NAT1\n",
       "          NAT1     chr8   [18079177, 18081197]      + |         NAT1\n",
       "           ...      ...                    ...    ... .          ...\n",
       "  LOC100499405    chr12 [  9392599,   9395645]      + | LOC100499405\n",
       "  LOC100499467    chr17 [ 70399463,  70588943]      - | LOC100499467\n",
       "      C9orf174     chr9 [100069910, 100139575]      + |     C9orf174\n",
       "  LOC100499484     chr9 [100000708, 100059594]      + | LOC100499484\n",
       "  LOC100499489    chr10 [ 22724354,  22726858]      - | LOC100499489\n",
       "                    ensembl_id\n",
       "                   <character>\n",
       "          A1BG ENSG00000121410\n",
       "           A2M ENSG00000175899\n",
       "          NAT1 ENSG00000171428\n",
       "          NAT1 ENSG00000171428\n",
       "          NAT1 ENSG00000171428\n",
       "           ...             ...\n",
       "  LOC100499405            <NA>\n",
       "  LOC100499467            <NA>\n",
       "      C9orf174 ENSG00000197816\n",
       "  LOC100499484            <NA>\n",
       "  LOC100499489            <NA>\n",
       "  -------\n",
       "  seqinfo: 45 sequences from an unspecified genome; no seqlengths"
      ]
     },
     "metadata": {},
     "output_type": "display_data"
    }
   ],
   "source": [
    "library(ggbio)\n",
    "library(Homo.sapiens)\n",
    "data(genesymbol, package=\"biovizBase\") # a set of GRanges for gene regions\n",
    "genesymbol"
   ]
  },
  {
   "cell_type": "markdown",
   "metadata": {},
   "source": [
    "We'll pick two genes of interest and use an enhancement to an autoplotted object to get the visualization."
   ]
  },
  {
   "cell_type": "code",
   "execution_count": 29,
   "metadata": {},
   "outputs": [
    {
     "name": "stderr",
     "output_type": "stream",
     "text": [
      "Parsing transcripts...\n",
      "Parsing exons...\n",
      "Parsing cds...\n",
      "Parsing utrs...\n",
      "------exons...\n",
      "------cdss...\n",
      "------introns...\n",
      "------utr...\n",
      "aggregating...\n",
      "Done\n",
      "'select()' returned 1:1 mapping between keys and columns\n",
      "Constructing graphics...\n"
     ]
    },
    {
     "data": {},
     "metadata": {},
     "output_type": "display_data"
    },
    {
     "data": {
      "image/png": "[encoded data removed]",
      "text/plain": [
       "plot without title"
      ]
     },
     "metadata": {},
     "output_type": "display_data"
    }
   ],
   "source": [
    "oo = genesymbol[c(\"ORMDL3\", \"GSDMB\")]\n",
    "ap1 = autoplot(Homo.sapiens, which=oo, gap.geom=\"chevron\")\n",
    "attr(ap1, \"hasAxis\") = TRUE\n",
    "ap1 + xlab(\"chr17\")"
   ]
  },
  {
   "cell_type": "markdown",
   "metadata": {},
   "source": [
    "The following code chunk defines a function that uses ggbio to visualize binding site locations\n",
    "in the context of gene models.  Unfortunately it runs pretty slowly so we will skip it for now."
   ]
  },
  {
   "cell_type": "code",
   "execution_count": 30,
   "metadata": {},
   "outputs": [],
   "source": [
    "if (FALSE) {  # slow\n",
    "options(repr.plot.height=4)\n",
    "library(ERBS)\n",
    "data(GM12878)\n",
    "vizBsByGene = function(brngs, sym=\"ATP5D\", radius=5000, label) {\n",
    "   require(biovizBase)\n",
    "   if (!exists(\"genesymbol\")) data(genesymbol, package=\"biovizBase\")\n",
    "   pl = try(genesymbol[sym])\n",
    "   if (inherits(pl, \"try-error\")) stop(\"symbol not found\")\n",
    "   ap2 = autoplot(Homo.sapiens, which=pl+radius, gap.geom=\"chevron\")\n",
    "   ss <- subsetByOverlaps(brngs, pl+radius)\n",
    "   if (length(ss)==0) stop(\"no binding sites near gene\")\n",
    "   ap3 = autoplot(ss) \n",
    "   ch = as.character(seqnames(pl)[1])\n",
    "   vl = list(ap3, TX=ap2)\n",
    "   names(vl)[1] = label\n",
    "   tracks(vl, heights=c(1,3)) \n",
    "}\n",
    "vizBsByGene( GM12878, sym=\"ATP5D\", label=\"ESRRA bnds\")\n",
    "}"
   ]
  },
  {
   "cell_type": "markdown",
   "metadata": {},
   "source": [
    "## Gviz for flexible high-level visualizations\n",
    "\n",
    "### Assay values juxtaposed with genes\n",
    "\n",
    "Here we define and call a function that uses [Gviz](http://www.bioconductor.org/packages/Gviz) to show\n",
    "binding sites in context of gene regions.  The key elements are\n",
    "\n",
    "- DataTrack, which processes a GRanges with numerical metadata\n",
    "- GeneRegionTrack, which generates a display of a GRanges assumed to provide gene addresses\n",
    "- IdeogramTrack, which shows context of visualization on a chromosome with its cytoband layout sketched in\n",
    "- GenomeAxisTrack, which gives the basic coordinates of the current visualization\n",
    "- plotTracks, which will render a list of \\*Track entities"
   ]
  },
  {
   "cell_type": "code",
   "execution_count": 31,
   "metadata": {},
   "outputs": [
    {
     "name": "stderr",
     "output_type": "stream",
     "text": [
      "Warning message in grid.Call.graphics(C_rect, x$x, x$y, x$width, x$height, resolveHJust(x$just, :\n",
      "\"semi-transparency is not supported on this device: reported only once per page\""
     ]
    },
    {
     "data": {
      "image/png": "[encoded data removed]",
      "text/plain": [
       "plot without title"
      ]
     },
     "metadata": {},
     "output_type": "display_data"
    }
   ],
   "source": [
    "options(repr.plot.height=6, repr.plot.width=6)\n",
    "bsNearGene = function(bsgr, sigmcol=\"peak\", sym=\"ESRRA\", \n",
    "    datalab, reflab, radius=500000, genome=\"hg19\") {\n",
    " requireNamespace(\"biovizBase\")\n",
    " data(genesymbol, package=\"biovizBase\")\n",
    " loc = genesymbol[sym]\n",
    " neigh = subsetByOverlaps(genesymbol, loc+radius)\n",
    " sc = subsetByOverlaps(bsgr, range(neigh))\n",
    " dt = DataTrack(sc[,sigmcol], name=datalab)\n",
    " grt = GeneRegionTrack( neigh, showId=TRUE, name=reflab)\n",
    " idx = IdeogramTrack(genome=genome, chr=as.character(seqnames(loc)))\n",
    " gat = GenomeAxisTrack()\n",
    " plotTracks(list(idx, gat, dt, grt, gat))\n",
    "}\n",
    "library(ERBS)\n",
    "data(GM12878)\n",
    "data(HepG2)\n",
    "bsNearGene(GM12878, datalab=\"ESRRA in GM12878\", sym=\"ESRRA\", reflab=\"genes near ESRRA\", radius=1000000)"
   ]
  },
  {
   "cell_type": "markdown",
   "metadata": {},
   "source": [
    "## Conclusions\n",
    "\n",
    "We review the road map annotated with some relevant functions for recall.\n",
    "\n",
    "```\n",
    "Road map:\n",
    "  - Purpose of visualization: exhibit the structure of variation\n",
    "  - Statistical modeling concepts\n",
    "      - Gaussian density and distribution functions\n",
    "          - dnorm, integrate, qnorm; rnorm for simulation\n",
    "      - QQ-plot to check adequacy of a distributional model\n",
    "          - qqnorm, qqplot\n",
    "      - histogram and density estimation\n",
    "          - hist(), density()\n",
    "      - Categorical data: contingency tables and tests of independence\n",
    "          - mosaicplot, vcd::assoc\n",
    "  - Multivariate visualization concepts\n",
    "      - comparing boxplots\n",
    "      - scatterplot, pairs plot\n",
    "      - visualizing clusters after dimension reduction\n",
    "          - cluster::pam\n",
    "  - Grammar of graphics sketched\n",
    "          - ggplot, aes, geom_*\n",
    "  - ggbio\n",
    "          - autoplot\n",
    "  - Gviz: a sashimi plot for paired-end RNA-seq\n",
    "          - DataTrack, GeneRegionTrack, GenomeAxisTrack, plotTracks\n",
    "```"
   ]
  },
  {
   "cell_type": "markdown",
   "metadata": {
    "collapsed": true
   },
   "source": [
    "### Appendix: Controlling base graphics via par()"
   ]
  },
  {
   "cell_type": "markdown",
   "metadata": {},
   "source": [
    "There are many parameters that control the display of standard R graphics.  See ?par for details.  Some frequently used are cex (character expansion factor), mar (set margins), mfrow (setup a multipanel display), pch (choose plotting glyph), las (alter angle of marginal label rendering).\n",
    "\n",
    "```\n",
    "> sort(names(par()))\n",
    " [1] \"adj\"       \"ann\"       \"ask\"       \"bg\"        \"bty\"       \"cex\"      \n",
    " [7] \"cex.axis\"  \"cex.lab\"   \"cex.main\"  \"cex.sub\"   \"cin\"       \"col\"      \n",
    "[13] \"col.axis\"  \"col.lab\"   \"col.main\"  \"col.sub\"   \"cra\"       \"crt\"      \n",
    "[19] \"csi\"       \"cxy\"       \"din\"       \"err\"       \"family\"    \"fg\"       \n",
    "[25] \"fig\"       \"fin\"       \"font\"      \"font.axis\" \"font.lab\"  \"font.main\"\n",
    "[31] \"font.sub\"  \"lab\"       \"las\"       \"lend\"      \"lheight\"   \"ljoin\"    \n",
    "[37] \"lmitre\"    \"lty\"       \"lwd\"       \"mai\"       \"mar\"       \"mex\"      \n",
    "[43] \"mfcol\"     \"mfg\"       \"mfrow\"     \"mgp\"       \"mkh\"       \"new\"      \n",
    "[49] \"oma\"       \"omd\"       \"omi\"       \"page\"      \"pch\"       \"pin\"      \n",
    "[55] \"plt\"       \"ps\"        \"pty\"       \"smo\"       \"srt\"       \"tck\"      \n",
    "[61] \"tcl\"       \"usr\"       \"xaxp\"      \"xaxs\"      \"xaxt\"      \"xlog\"     \n",
    "[67] \"xpd\"       \"yaxp\"      \"yaxs\"      \"yaxt\"      \"ylbias\"    \"ylog\"     \n",
    "```"
   ]
  }
 ],
 "metadata": {
  "kernelspec": {
   "display_name": "R",
   "language": "R",
   "name": "ir"
  },
  "language_info": {
   "codemirror_mode": "r",
   "file_extension": ".r",
   "mimetype": "text/x-r-source",
   "name": "R",
   "pygments_lexer": "r",
   "version": "3.4.3"
  }
 },
 "nbformat": 4,
 "nbformat_minor": 2
}
